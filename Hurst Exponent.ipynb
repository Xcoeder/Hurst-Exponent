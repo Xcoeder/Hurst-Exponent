{
 "cells": [
  {
   "cell_type": "markdown",
   "id": "6e4e455b",
   "metadata": {},
   "source": [
    "# Hurst Exponent using R/S"
   ]
  },
  {
   "cell_type": "code",
   "execution_count": 120,
   "id": "797942ae",
   "metadata": {},
   "outputs": [],
   "source": [
    "import pandas as pd\n",
    "import numpy as np\n",
    "from scipy.optimize import curve_fit\n",
    "from scipy.stats import linregress\n",
    "import matplotlib.pyplot as plt\n",
    "import PyPDF2"
   ]
  },
  {
   "cell_type": "markdown",
   "id": "23be799e",
   "metadata": {},
   "source": [
    "### daily"
   ]
  },
  {
   "cell_type": "code",
   "execution_count": 2,
   "id": "060f00d8",
   "metadata": {},
   "outputs": [
    {
     "data": {
      "text/html": [
       "<div>\n",
       "<style scoped>\n",
       "    .dataframe tbody tr th:only-of-type {\n",
       "        vertical-align: middle;\n",
       "    }\n",
       "\n",
       "    .dataframe tbody tr th {\n",
       "        vertical-align: top;\n",
       "    }\n",
       "\n",
       "    .dataframe thead th {\n",
       "        text-align: right;\n",
       "    }\n",
       "</style>\n",
       "<table border=\"1\" class=\"dataframe\">\n",
       "  <thead>\n",
       "    <tr style=\"text-align: right;\">\n",
       "      <th></th>\n",
       "      <th>Dates</th>\n",
       "      <th>PX_LAST</th>\n",
       "      <th>PX_BID</th>\n",
       "      <th>PX_ASK</th>\n",
       "    </tr>\n",
       "  </thead>\n",
       "  <tbody>\n",
       "    <tr>\n",
       "      <th>0</th>\n",
       "      <td>7/19/2010</td>\n",
       "      <td>0.08</td>\n",
       "      <td>NaN</td>\n",
       "      <td>NaN</td>\n",
       "    </tr>\n",
       "    <tr>\n",
       "      <th>1</th>\n",
       "      <td>7/20/2010</td>\n",
       "      <td>0.07</td>\n",
       "      <td>NaN</td>\n",
       "      <td>NaN</td>\n",
       "    </tr>\n",
       "    <tr>\n",
       "      <th>2</th>\n",
       "      <td>7/21/2010</td>\n",
       "      <td>0.08</td>\n",
       "      <td>NaN</td>\n",
       "      <td>NaN</td>\n",
       "    </tr>\n",
       "    <tr>\n",
       "      <th>3</th>\n",
       "      <td>7/22/2010</td>\n",
       "      <td>0.05</td>\n",
       "      <td>NaN</td>\n",
       "      <td>NaN</td>\n",
       "    </tr>\n",
       "    <tr>\n",
       "      <th>4</th>\n",
       "      <td>7/23/2010</td>\n",
       "      <td>0.06</td>\n",
       "      <td>NaN</td>\n",
       "      <td>NaN</td>\n",
       "    </tr>\n",
       "  </tbody>\n",
       "</table>\n",
       "</div>"
      ],
      "text/plain": [
       "       Dates  PX_LAST  PX_BID  PX_ASK\n",
       "0  7/19/2010     0.08     NaN     NaN\n",
       "1  7/20/2010     0.07     NaN     NaN\n",
       "2  7/21/2010     0.08     NaN     NaN\n",
       "3  7/22/2010     0.05     NaN     NaN\n",
       "4  7/23/2010     0.06     NaN     NaN"
      ]
     },
     "execution_count": 2,
     "metadata": {},
     "output_type": "execute_result"
    }
   ],
   "source": [
    "data=pd.read_csv('xbtusd_daily.csv')\n",
    "data.head()"
   ]
  },
  {
   "cell_type": "code",
   "execution_count": 3,
   "id": "eae55943",
   "metadata": {},
   "outputs": [],
   "source": [
    "date=data['Dates']\n",
    "data=data['PX_LAST']"
   ]
  },
  {
   "cell_type": "code",
   "execution_count": 4,
   "id": "820621f3",
   "metadata": {},
   "outputs": [],
   "source": [
    "data=data.pct_change()"
   ]
  },
  {
   "cell_type": "code",
   "execution_count": 5,
   "id": "229ca5cf",
   "metadata": {},
   "outputs": [],
   "source": [
    "data=data[pd.notnull(data)]"
   ]
  },
  {
   "cell_type": "code",
   "execution_count": 6,
   "id": "eb6fd36c",
   "metadata": {},
   "outputs": [],
   "source": [
    "date=date[1:]"
   ]
  },
  {
   "cell_type": "code",
   "execution_count": 7,
   "id": "8f370769",
   "metadata": {},
   "outputs": [
    {
     "name": "stderr",
     "output_type": "stream",
     "text": [
      "/var/folders/pm/w4n07xw134ngfqypr7l51kw00000gn/T/ipykernel_41360/2177846810.py:19: RuntimeWarning: invalid value encountered in double_scalars\n",
      "  RS.append(R/S)\n"
     ]
    }
   ],
   "source": [
    "N=1024\n",
    "n_ls=[512,256,128,64,32,16]\n",
    "hurst_exponent=[]\n",
    "\n",
    "for start in range(N,len(data)+1):\n",
    "    \n",
    "    y=data[start-N:start]\n",
    "    avg_rs=[]\n",
    "\n",
    "    for n in n_ls:\n",
    "        RS=[]\n",
    "        subsamples = np.array_split(y, N // n)\n",
    "        for i, subsample in enumerate(subsamples):\n",
    "            m=np.mean(subsample)\n",
    "            yt=subsample-m\n",
    "            zt=np.cumsum(yt)\n",
    "            R=max(zt)-min(zt)\n",
    "            S=np.sqrt(sum(yt**2)/(n-1))\n",
    "            RS.append(R/S)\n",
    "\n",
    "        avg_rs.append(np.mean([x for x in RS if not np.isnan(x)]))\n",
    "\n",
    "    slope, intercept, r_value, p_value, std_err = linregress(np.log(n_ls),np.log(avg_rs))\n",
    "    hurst_exponent.append(slope)"
   ]
  },
  {
   "cell_type": "code",
   "execution_count": 8,
   "id": "9af2479e",
   "metadata": {},
   "outputs": [],
   "source": [
    "smoothed_h=pd.Series(hurst_exponent).ewm(span=10,adjust=False).mean()"
   ]
  },
  {
   "cell_type": "code",
   "execution_count": 9,
   "id": "fab4a499",
   "metadata": {},
   "outputs": [],
   "source": [
    "std_dev = np.std(hurst_exponent)"
   ]
  },
  {
   "cell_type": "code",
   "execution_count": 10,
   "id": "5bb1e85f",
   "metadata": {},
   "outputs": [],
   "source": [
    "upper_bound = np.mean(hurst_exponent) + 2 * std_dev\n",
    "lower_bound = np.mean(hurst_exponent) - 2 * std_dev"
   ]
  },
  {
   "cell_type": "code",
   "execution_count": 11,
   "id": "a833f1e2",
   "metadata": {},
   "outputs": [
    {
     "data": {
      "text/plain": [
       "2804"
      ]
     },
     "execution_count": 11,
     "metadata": {},
     "output_type": "execute_result"
    }
   ],
   "source": [
    "len(date[1203:])"
   ]
  },
  {
   "cell_type": "code",
   "execution_count": 107,
   "id": "2b7584a6",
   "metadata": {},
   "outputs": [],
   "source": [
    "import plotly.graph_objects as go\n",
    "fig = go.Figure()\n",
    "fig.add_trace(\n",
    "    go.Scatter(\n",
    "        x=date[1023:], \n",
    "        y=hurst_exponent,\n",
    "        mode=\"lines\",\n",
    "        line=go.scatter.Line(color='rgb(78,144,10)'),\n",
    "        name='Hurst Exponent')\n",
    ")\n",
    "fig.add_trace(\n",
    "    go.Scatter(\n",
    "        x=date[1023:], \n",
    "        y=[upper_bound]*3000,\n",
    "        mode=\"lines\",\n",
    "        line=dict(dash='dash',color='grey'),\n",
    "        name='Upper Bound')\n",
    ")\n",
    " \n",
    "fig.add_trace(\n",
    "    go.Scatter(\n",
    "        x=date[1023:], \n",
    "        y=[lower_bound]*3000,\n",
    "        mode=\"lines\",\n",
    "        line=dict(dash='dash',color='grey'),\n",
    "        name='Lower Bound')\n",
    ")\n",
    "   \n",
    "fig.add_trace(\n",
    "    go.Scatter(\n",
    "        x=date[1023:], \n",
    "        y=smoothed_h,\n",
    "        mode=\"lines\",\n",
    "        line=go.scatter.Line(color='red'),\n",
    "        name='Smoothed Hurst Exponent')\n",
    ")\n",
    "fig.update_layout(yaxis_tickformat=',',\n",
    "                  xaxis_tickformat='%d %b <br>%Y',\n",
    "                  \n",
    "                  title={'text': \"Hurst Exponent of Bitcoin - daily with std\", 'y': 0.95, 'x': 0.5,\n",
    "                         'xanchor': \"center\",\n",
    "                         'yanchor': 'top'},\n",
    "                  title_font_color='rgb(78,144,10)',\n",
    "                  font_color='rgb(25,26,25)',\n",
    "                  #font_family='Avondale',\n",
    "                  paper_bgcolor='rgba(0,0,0,0)',\n",
    "                  plot_bgcolor='rgba(0,0,0,0)',\n",
    "                  legend=dict(\n",
    "                       orientation=\"h\",\n",
    "                       yanchor=\"bottom\",\n",
    "                       y=1.02,\n",
    "                       xanchor=\"right\",\n",
    "                       x=1)\n",
    "                  )\n",
    "watermark_opacity = 0.3  \n",
    "\n",
    "\n",
    "fig.add_annotation(\n",
    "    text='Samara Alpha Management    Samara Alpha Management   Samara Alpha Management',\n",
    "    xref=\"paper\",\n",
    "    yref=\"paper\",\n",
    "    x=-1.3,\n",
    "    y=0.5,\n",
    "    showarrow=False,\n",
    "    font=dict(size=35,color=\"rgba(160, 160, 160, \" + str(watermark_opacity) + \")\"),  \n",
    "    textangle=-45  \n",
    ")\n",
    "fig.add_annotation(\n",
    "    text='Samara Alpha Management    Samara Alpha Management   Samara Alpha Management',\n",
    "    xref=\"paper\",\n",
    "    yref=\"paper\",\n",
    "    x=-1,\n",
    "    y=0.5,\n",
    "    showarrow=False,\n",
    "    font=dict(size=35,color=\"rgba(160, 160, 160, \" + str(watermark_opacity) + \")\"),  \n",
    "    textangle=-45  \n",
    ")\n",
    "\n",
    "fig.add_annotation(\n",
    "    text='Samara Alpha Management    Samara Alpha Management   Samara Alpha Management',\n",
    "    xref=\"paper\",\n",
    "    yref=\"paper\",\n",
    "    x=-0.7,\n",
    "    y=0.5,\n",
    "    showarrow=False,\n",
    "    font=dict(size=35,color=\"rgba(160, 160, 160, \" + str(watermark_opacity) + \")\"), \n",
    "    textangle=-45  \n",
    ")\n",
    "\n",
    "\n",
    "fig.add_annotation(\n",
    "    text='Samara Alpha Management    Samara Alpha Management   Samara Alpha Management',\n",
    "    xref=\"paper\",\n",
    "    yref=\"paper\",\n",
    "    x=-0.1,\n",
    "    y=0.5,\n",
    "    showarrow=False,\n",
    "    font=dict(size=35,color=\"rgba(160, 160, 160, \" + str(watermark_opacity) + \")\"), \n",
    "    textangle=-45  \n",
    ")\n",
    "\n",
    "fig.add_annotation(\n",
    "    text='Samara Alpha Management    Samara Alpha Management   Samara Alpha Management',\n",
    "    xref=\"paper\",\n",
    "    yref=\"paper\",\n",
    "    x=-0.4,\n",
    "    y=0.5,\n",
    "    showarrow=False,\n",
    "    font=dict(size=35,color=\"rgba(160, 160, 160, \" + str(watermark_opacity) + \")\"),  \n",
    "    textangle=-45  \n",
    ")\n",
    "\n",
    "fig.add_annotation(\n",
    "    text='Samara Alpha Management    Samara Alpha Management   Samara Alpha Management',\n",
    "    xref=\"paper\",\n",
    "    yref=\"paper\",\n",
    "    x=0.3,\n",
    "    y=0.5,\n",
    "    showarrow=False,\n",
    "    font=dict(size=35,color=\"rgba(160, 160, 160, \" + str(watermark_opacity) + \")\"),  \n",
    "    textangle=-45  \n",
    ")\n",
    "\n",
    "fig.update_xaxes(title_text=\"time\",showgrid=False,linecolor='rgb(93,94,95)',tickformat=\"%Y\")\n",
    "fig.update_yaxes(title_text=\"Hurst exponent\",showgrid=True,gridcolor='rgb(187,188,189)')\n",
    "# fig.show()\n",
    "image_name=f\"./hurst_exponent_BTC_daily_std.pdf\"\n",
    "fig.write_image(image_name)"
   ]
  },
  {
   "cell_type": "markdown",
   "id": "8f15ddac",
   "metadata": {},
   "source": [
    "### daily different rolling windows"
   ]
  },
  {
   "cell_type": "code",
   "execution_count": 121,
   "id": "ee7108b9",
   "metadata": {},
   "outputs": [],
   "source": [
    "data=pd.read_csv('xbtusd_daily.csv')\n",
    "date=data['Dates']\n",
    "data=data['PX_LAST']\n",
    "data=data.pct_change()\n",
    "data=data[pd.notnull(data)]\n",
    "date=date[1:]"
   ]
  },
  {
   "cell_type": "code",
   "execution_count": 122,
   "id": "c94fc9ce",
   "metadata": {},
   "outputs": [
    {
     "ename": "ValueError",
     "evalue": "number sections must be larger than 0.",
     "output_type": "error",
     "traceback": [
      "\u001b[0;31m---------------------------------------------------------------------------\u001b[0m",
      "\u001b[0;31mValueError\u001b[0m                                Traceback (most recent call last)",
      "Cell \u001b[0;32mIn[122], line 13\u001b[0m\n\u001b[1;32m     11\u001b[0m \u001b[38;5;28;01mfor\u001b[39;00m n \u001b[38;5;129;01min\u001b[39;00m n_ls:\n\u001b[1;32m     12\u001b[0m     RS\u001b[38;5;241m=\u001b[39m[]\n\u001b[0;32m---> 13\u001b[0m     subsamples \u001b[38;5;241m=\u001b[39m \u001b[43mnp\u001b[49m\u001b[38;5;241;43m.\u001b[39;49m\u001b[43marray_split\u001b[49m\u001b[43m(\u001b[49m\u001b[43my\u001b[49m\u001b[43m,\u001b[49m\u001b[43m \u001b[49m\u001b[43mN\u001b[49m\u001b[43m \u001b[49m\u001b[38;5;241;43m/\u001b[39;49m\u001b[38;5;241;43m/\u001b[39;49m\u001b[43m \u001b[49m\u001b[43mn\u001b[49m\u001b[43m)\u001b[49m\n\u001b[1;32m     14\u001b[0m     \u001b[38;5;28;01mfor\u001b[39;00m i, subsample \u001b[38;5;129;01min\u001b[39;00m \u001b[38;5;28menumerate\u001b[39m(subsamples):\n\u001b[1;32m     15\u001b[0m         m\u001b[38;5;241m=\u001b[39mnp\u001b[38;5;241m.\u001b[39mmean(subsample)\n",
      "File \u001b[0;32m<__array_function__ internals>:180\u001b[0m, in \u001b[0;36marray_split\u001b[0;34m(*args, **kwargs)\u001b[0m\n",
      "File \u001b[0;32m~/anaconda3/lib/python3.10/site-packages/numpy/lib/shape_base.py:778\u001b[0m, in \u001b[0;36marray_split\u001b[0;34m(ary, indices_or_sections, axis)\u001b[0m\n\u001b[1;32m    776\u001b[0m Nsections \u001b[38;5;241m=\u001b[39m \u001b[38;5;28mint\u001b[39m(indices_or_sections)\n\u001b[1;32m    777\u001b[0m \u001b[38;5;28;01mif\u001b[39;00m Nsections \u001b[38;5;241m<\u001b[39m\u001b[38;5;241m=\u001b[39m \u001b[38;5;241m0\u001b[39m:\n\u001b[0;32m--> 778\u001b[0m     \u001b[38;5;28;01mraise\u001b[39;00m \u001b[38;5;167;01mValueError\u001b[39;00m(\u001b[38;5;124m'\u001b[39m\u001b[38;5;124mnumber sections must be larger than 0.\u001b[39m\u001b[38;5;124m'\u001b[39m) \u001b[38;5;28;01mfrom\u001b[39;00m \u001b[38;5;28mNone\u001b[39m\n\u001b[1;32m    779\u001b[0m Neach_section, extras \u001b[38;5;241m=\u001b[39m \u001b[38;5;28mdivmod\u001b[39m(Ntotal, Nsections)\n\u001b[1;32m    780\u001b[0m section_sizes \u001b[38;5;241m=\u001b[39m ([\u001b[38;5;241m0\u001b[39m] \u001b[38;5;241m+\u001b[39m\n\u001b[1;32m    781\u001b[0m                  extras \u001b[38;5;241m*\u001b[39m [Neach_section\u001b[38;5;241m+\u001b[39m\u001b[38;5;241m1\u001b[39m] \u001b[38;5;241m+\u001b[39m\n\u001b[1;32m    782\u001b[0m                  (Nsections\u001b[38;5;241m-\u001b[39mextras) \u001b[38;5;241m*\u001b[39m [Neach_section])\n",
      "\u001b[0;31mValueError\u001b[0m: number sections must be larger than 0."
     ]
    }
   ],
   "source": [
    "hurst_results = pd.DataFrame()\n",
    "for N in [30,60,90]:\n",
    "    n_ls=[512,256,128,64,32,16]\n",
    "    hurst_exponent=[]\n",
    "\n",
    "    for start in range(N,len(data)+1):\n",
    "\n",
    "        y=data[start-N:start]\n",
    "        avg_rs=[]\n",
    "\n",
    "        for n in n_ls:\n",
    "            RS=[]\n",
    "            subsamples = np.array_split(y, N // n)\n",
    "            for i, subsample in enumerate(subsamples):\n",
    "                m=np.mean(subsample)\n",
    "                yt=subsample-m\n",
    "                zt=np.cumsum(yt)\n",
    "                R=max(zt)-min(zt)\n",
    "                S=np.sqrt(sum(yt**2)/(n-1))\n",
    "                RS.append(R/S)\n",
    "\n",
    "            avg_rs.append(np.mean([x for x in RS if not np.isnan(x)]))\n",
    "\n",
    "        slope, intercept, r_value, p_value, std_err = linregress(np.log(n_ls),np.log(avg_rs))\n",
    "        hurst_exponent.append(slope)\n",
    "        \n",
    "    hurst_results[f'{N}-Day'] = hurst_exponent"
   ]
  },
  {
   "cell_type": "code",
   "execution_count": null,
   "id": "122e87c9",
   "metadata": {},
   "outputs": [],
   "source": [
    "smoothed_h=pd.Series(hurst_exponent).ewm(span=10,adjust=False).mean()"
   ]
  },
  {
   "cell_type": "code",
   "execution_count": null,
   "id": "fd07eb23",
   "metadata": {},
   "outputs": [],
   "source": [
    "import plotly.graph_objects as go\n",
    "fig = go.Figure()\n",
    "fig.add_trace(\n",
    "    go.Scatter(\n",
    "        x=date[1023:], \n",
    "        y=hurst_exponent,\n",
    "        mode=\"lines\",\n",
    "        line=go.scatter.Line(color='rgb(78,144,10)'),\n",
    "        name='Hurst Exponent')\n",
    ")\n",
    "fig.add_trace(\n",
    "    go.Scatter(\n",
    "        x=date[1023:], \n",
    "        y=[upper_bound]*3000,\n",
    "        mode=\"lines\",\n",
    "        line=dict(dash='dash',color='grey'),\n",
    "        name='Upper Bound')\n",
    ")\n",
    " \n",
    "fig.add_trace(\n",
    "    go.Scatter(\n",
    "        x=date[1023:], \n",
    "        y=[lower_bound]*3000,\n",
    "        mode=\"lines\",\n",
    "        line=dict(dash='dash',color='grey'),\n",
    "        name='Lower Bound')\n",
    ")\n",
    "   \n",
    "fig.add_trace(\n",
    "    go.Scatter(\n",
    "        x=date[1023:], \n",
    "        y=smoothed_h,\n",
    "        mode=\"lines\",\n",
    "        line=go.scatter.Line(color='red'),\n",
    "        name='Smoothed Hurst Exponent')\n",
    ")\n",
    "fig.update_layout(yaxis_tickformat=',',\n",
    "                  xaxis_tickformat='%d %b <br>%Y',\n",
    "                  \n",
    "                  title={'text': \"Hurst Exponent of Bitcoin - daily with std\", 'y': 0.95, 'x': 0.5,\n",
    "                         'xanchor': \"center\",\n",
    "                         'yanchor': 'top'},\n",
    "                  title_font_color='rgb(78,144,10)',\n",
    "                  font_color='rgb(25,26,25)',\n",
    "                  #font_family='Avondale',\n",
    "                  paper_bgcolor='rgba(0,0,0,0)',\n",
    "                  plot_bgcolor='rgba(0,0,0,0)',\n",
    "                  legend=dict(\n",
    "                       orientation=\"h\",\n",
    "                       yanchor=\"bottom\",\n",
    "                       y=1.02,\n",
    "                       xanchor=\"right\",\n",
    "                       x=1)\n",
    "                  )\n",
    "watermark_opacity = 0.3  \n",
    "\n",
    "\n",
    "fig.add_annotation(\n",
    "    text='Samara Alpha Management    Samara Alpha Management   Samara Alpha Management',\n",
    "    xref=\"paper\",\n",
    "    yref=\"paper\",\n",
    "    x=-1.3,\n",
    "    y=0.5,\n",
    "    showarrow=False,\n",
    "    font=dict(size=35,color=\"rgba(160, 160, 160, \" + str(watermark_opacity) + \")\"),  \n",
    "    textangle=-45  \n",
    ")\n",
    "fig.add_annotation(\n",
    "    text='Samara Alpha Management    Samara Alpha Management   Samara Alpha Management',\n",
    "    xref=\"paper\",\n",
    "    yref=\"paper\",\n",
    "    x=-1,\n",
    "    y=0.5,\n",
    "    showarrow=False,\n",
    "    font=dict(size=35,color=\"rgba(160, 160, 160, \" + str(watermark_opacity) + \")\"),  \n",
    "    textangle=-45  \n",
    ")\n",
    "\n",
    "fig.add_annotation(\n",
    "    text='Samara Alpha Management    Samara Alpha Management   Samara Alpha Management',\n",
    "    xref=\"paper\",\n",
    "    yref=\"paper\",\n",
    "    x=-0.7,\n",
    "    y=0.5,\n",
    "    showarrow=False,\n",
    "    font=dict(size=35,color=\"rgba(160, 160, 160, \" + str(watermark_opacity) + \")\"), \n",
    "    textangle=-45  \n",
    ")\n",
    "\n",
    "\n",
    "fig.add_annotation(\n",
    "    text='Samara Alpha Management    Samara Alpha Management   Samara Alpha Management',\n",
    "    xref=\"paper\",\n",
    "    yref=\"paper\",\n",
    "    x=-0.1,\n",
    "    y=0.5,\n",
    "    showarrow=False,\n",
    "    font=dict(size=35,color=\"rgba(160, 160, 160, \" + str(watermark_opacity) + \")\"), \n",
    "    textangle=-45  \n",
    ")\n",
    "\n",
    "fig.add_annotation(\n",
    "    text='Samara Alpha Management    Samara Alpha Management   Samara Alpha Management',\n",
    "    xref=\"paper\",\n",
    "    yref=\"paper\",\n",
    "    x=-0.4,\n",
    "    y=0.5,\n",
    "    showarrow=False,\n",
    "    font=dict(size=35,color=\"rgba(160, 160, 160, \" + str(watermark_opacity) + \")\"),  \n",
    "    textangle=-45  \n",
    ")\n",
    "\n",
    "fig.add_annotation(\n",
    "    text='Samara Alpha Management    Samara Alpha Management   Samara Alpha Management',\n",
    "    xref=\"paper\",\n",
    "    yref=\"paper\",\n",
    "    x=0.3,\n",
    "    y=0.5,\n",
    "    showarrow=False,\n",
    "    font=dict(size=35,color=\"rgba(160, 160, 160, \" + str(watermark_opacity) + \")\"),  \n",
    "    textangle=-45  \n",
    ")\n",
    "\n",
    "fig.update_xaxes(title_text=\"time\",showgrid=False,linecolor='rgb(93,94,95)',tickformat=\"%Y\")\n",
    "fig.update_yaxes(title_text=\"Hurst exponent\",showgrid=True,gridcolor='rgb(187,188,189)')\n",
    "# fig.show()\n",
    "image_name=f\"./hurst_exponent_BTC_daily_std.pdf\"\n",
    "fig.write_image(image_name)"
   ]
  },
  {
   "cell_type": "markdown",
   "id": "31d3ed59",
   "metadata": {},
   "source": [
    "### 10s"
   ]
  },
  {
   "cell_type": "code",
   "execution_count": 108,
   "id": "ac9cb28f",
   "metadata": {},
   "outputs": [],
   "source": [
    "data=pd.read_csv('xbtusd_10s_1.csv')\n",
    "data=data[260000:]"
   ]
  },
  {
   "cell_type": "code",
   "execution_count": 109,
   "id": "92398515",
   "metadata": {},
   "outputs": [
    {
     "data": {
      "text/html": [
       "<div>\n",
       "<style scoped>\n",
       "    .dataframe tbody tr th:only-of-type {\n",
       "        vertical-align: middle;\n",
       "    }\n",
       "\n",
       "    .dataframe tbody tr th {\n",
       "        vertical-align: top;\n",
       "    }\n",
       "\n",
       "    .dataframe thead th {\n",
       "        text-align: right;\n",
       "    }\n",
       "</style>\n",
       "<table border=\"1\" class=\"dataframe\">\n",
       "  <thead>\n",
       "    <tr style=\"text-align: right;\">\n",
       "      <th></th>\n",
       "      <th>Dates</th>\n",
       "      <th>Bid</th>\n",
       "      <th>Ask</th>\n",
       "    </tr>\n",
       "  </thead>\n",
       "  <tbody>\n",
       "    <tr>\n",
       "      <th>260000</th>\n",
       "      <td>6/6/2023 11:17</td>\n",
       "      <td>25940.5</td>\n",
       "      <td>25974.75</td>\n",
       "    </tr>\n",
       "    <tr>\n",
       "      <th>260001</th>\n",
       "      <td>6/6/2023 11:18</td>\n",
       "      <td>25944.0</td>\n",
       "      <td>25985.95</td>\n",
       "    </tr>\n",
       "    <tr>\n",
       "      <th>260002</th>\n",
       "      <td>6/6/2023 11:18</td>\n",
       "      <td>25943.0</td>\n",
       "      <td>25971.75</td>\n",
       "    </tr>\n",
       "    <tr>\n",
       "      <th>260003</th>\n",
       "      <td>6/6/2023 11:18</td>\n",
       "      <td>25943.0</td>\n",
       "      <td>25971.00</td>\n",
       "    </tr>\n",
       "    <tr>\n",
       "      <th>260004</th>\n",
       "      <td>6/6/2023 11:18</td>\n",
       "      <td>25943.0</td>\n",
       "      <td>25965.00</td>\n",
       "    </tr>\n",
       "  </tbody>\n",
       "</table>\n",
       "</div>"
      ],
      "text/plain": [
       "                 Dates      Bid       Ask\n",
       "260000  6/6/2023 11:17  25940.5  25974.75\n",
       "260001  6/6/2023 11:18  25944.0  25985.95\n",
       "260002  6/6/2023 11:18  25943.0  25971.75\n",
       "260003  6/6/2023 11:18  25943.0  25971.00\n",
       "260004  6/6/2023 11:18  25943.0  25965.00"
      ]
     },
     "execution_count": 109,
     "metadata": {},
     "output_type": "execute_result"
    }
   ],
   "source": [
    "data.head()"
   ]
  },
  {
   "cell_type": "code",
   "execution_count": 110,
   "id": "87a10dd4",
   "metadata": {},
   "outputs": [],
   "source": [
    "data['Mid']=(data['Bid']+data['Ask'])/2\n",
    "data=data[pd.notnull(data['Mid'])]\n",
    "date=data['Dates']\n",
    "data=data['Mid']"
   ]
  },
  {
   "cell_type": "code",
   "execution_count": 111,
   "id": "bcf94df1",
   "metadata": {},
   "outputs": [],
   "source": [
    "data=data.pct_change()\n",
    "data=data[pd.notnull(data)]"
   ]
  },
  {
   "cell_type": "code",
   "execution_count": 112,
   "id": "5857396a",
   "metadata": {},
   "outputs": [],
   "source": [
    "date=date[1:]"
   ]
  },
  {
   "cell_type": "code",
   "execution_count": 113,
   "id": "13fafb67",
   "metadata": {},
   "outputs": [],
   "source": [
    "N=1024\n",
    "n_ls=[512,256,128,64,32,16]\n",
    "hurst_exponent_s=[]\n",
    "\n",
    "for start in range(N,len(data)+1):\n",
    "    \n",
    "    y=data[start-N:start]\n",
    "    avg_rs=[]\n",
    "\n",
    "    for n in n_ls:\n",
    "        RS=[]\n",
    "        subsamples = np.array_split(y, N // n)\n",
    "        for i, subsample in enumerate(subsamples):\n",
    "            m=np.mean(subsample)\n",
    "            yt=subsample-m\n",
    "            zt=np.cumsum(yt)\n",
    "            R=max(zt)-min(zt)\n",
    "            S=np.sqrt(sum(yt**2)/(n-1))\n",
    "            RS.append(R/S)\n",
    "\n",
    "        avg_rs.append(np.mean([x for x in RS if not np.isnan(x)]))\n",
    "\n",
    "    slope, intercept, r_value, p_value, std_err = linregress(np.log(n_ls),np.log(avg_rs))\n",
    "    hurst_exponent_s.append(slope)"
   ]
  },
  {
   "cell_type": "code",
   "execution_count": 114,
   "id": "509ba0fc",
   "metadata": {},
   "outputs": [],
   "source": [
    "smoothed_h_s=pd.Series(hurst_exponent_s).ewm(span=20,adjust=False).mean()"
   ]
  },
  {
   "cell_type": "code",
   "execution_count": 115,
   "id": "9ca74793",
   "metadata": {},
   "outputs": [],
   "source": [
    "std_dev = np.std(hurst_exponent)\n",
    "upper_bound = np.mean(hurst_exponent) + 2 * std_dev\n",
    "lower_bound = np.mean(hurst_exponent) - 2 * std_dev"
   ]
  },
  {
   "cell_type": "code",
   "execution_count": 116,
   "id": "a1bc5242",
   "metadata": {},
   "outputs": [
    {
     "data": {
      "text/plain": [
       "6705"
      ]
     },
     "execution_count": 116,
     "metadata": {},
     "output_type": "execute_result"
    }
   ],
   "source": [
    "len(date[1203:])"
   ]
  },
  {
   "cell_type": "code",
   "execution_count": 119,
   "id": "f134a9fa",
   "metadata": {},
   "outputs": [],
   "source": [
    "import plotly.graph_objects as go\n",
    "fig = go.Figure()\n",
    "fig.add_trace(\n",
    "    go.Scatter(\n",
    "        x=date[1023:], \n",
    "        y=hurst_exponent_s,\n",
    "        mode=\"lines\",\n",
    "        line=go.scatter.Line(color='rgb(78,144,10)'),\n",
    "        \n",
    "        name='Hurst Exponent')\n",
    ")\n",
    "\n",
    "fig.add_trace(\n",
    "    go.Scatter(\n",
    "        x=date[1023:], \n",
    "        y=[upper_bound]*7000,\n",
    "        mode=\"lines\",\n",
    "        line=dict(dash='dash',color='grey'),\n",
    "        name='Upper Bound')\n",
    ")\n",
    " \n",
    "fig.add_trace(\n",
    "    go.Scatter(\n",
    "        x=date[1023:], \n",
    "        y=[lower_bound]*7000,\n",
    "        mode=\"lines\",\n",
    "        line=dict(dash='dash',color='grey'),\n",
    "        name='Lower Bound')\n",
    ")\n",
    "\n",
    "fig.add_trace(\n",
    "    go.Scatter(\n",
    "        x=date[1023:], \n",
    "        y=smoothed_h_s,\n",
    "        mode=\"lines\",\n",
    "        line=go.scatter.Line(color='red'),\n",
    "        \n",
    "        name='Smoothed Hurst Exponent')\n",
    ")\n",
    "\n",
    "fig.update_layout(yaxis_tickformat=',',\n",
    "                  xaxis_tickformat='%d %b <br>%Y',\n",
    "                  title={'text': \"Hurst Exponent of BTC - 10-second mid-price movements\", 'y': 0.95, 'x': 0.5,\n",
    "                         'xanchor': \"center\",\n",
    "                         'yanchor': 'top'},\n",
    "                  title_font_color='rgb(78,144,10)',\n",
    "                  font_color='rgb(25,26,25)',\n",
    "                  \n",
    "                  paper_bgcolor='rgba(0,0,0,0)',\n",
    "                  plot_bgcolor='rgba(0,0,0,0)',\n",
    "                  legend=dict(\n",
    "                       orientation=\"h\",\n",
    "                       yanchor=\"bottom\",\n",
    "                       y=1.02,\n",
    "                       xanchor=\"right\",\n",
    "                       x=1)\n",
    "                  )\n",
    "\n",
    "\n",
    "watermark_opacity = 0.3  \n",
    "\n",
    "\n",
    "fig.add_annotation(\n",
    "    text='Samara Alpha Management    Samara Alpha Management   Samara Alpha Management',\n",
    "    xref=\"paper\",\n",
    "    yref=\"paper\",\n",
    "    x=-1.3,\n",
    "    y=0.5,\n",
    "    showarrow=False,\n",
    "    font=dict(size=35,color=\"rgba(160, 160, 160, \" + str(watermark_opacity) + \")\"),  \n",
    "    textangle=-45  \n",
    ")\n",
    "fig.add_annotation(\n",
    "    text='Samara Alpha Management    Samara Alpha Management   Samara Alpha Management',\n",
    "    xref=\"paper\",\n",
    "    yref=\"paper\",\n",
    "    x=-1,\n",
    "    y=0.5,\n",
    "    showarrow=False,\n",
    "    font=dict(size=35,color=\"rgba(160, 160, 160, \" + str(watermark_opacity) + \")\"),  \n",
    "    textangle=-45  \n",
    ")\n",
    "\n",
    "fig.add_annotation(\n",
    "    text='Samara Alpha Management    Samara Alpha Management   Samara Alpha Management',\n",
    "    xref=\"paper\",\n",
    "    yref=\"paper\",\n",
    "    x=-0.7,\n",
    "    y=0.5,\n",
    "    showarrow=False,\n",
    "    font=dict(size=35,color=\"rgba(160, 160, 160, \" + str(watermark_opacity) + \")\"), \n",
    "    textangle=-45  \n",
    ")\n",
    "\n",
    "\n",
    "fig.add_annotation(\n",
    "    text='Samara Alpha Management    Samara Alpha Management   Samara Alpha Management',\n",
    "    xref=\"paper\",\n",
    "    yref=\"paper\",\n",
    "    x=-0.1,\n",
    "    y=0.5,\n",
    "    showarrow=False,\n",
    "    font=dict(size=35,color=\"rgba(160, 160, 160, \" + str(watermark_opacity) + \")\"), \n",
    "    textangle=-45  \n",
    ")\n",
    "\n",
    "fig.add_annotation(\n",
    "    text='Samara Alpha Management    Samara Alpha Management   Samara Alpha Management',\n",
    "    xref=\"paper\",\n",
    "    yref=\"paper\",\n",
    "    x=-0.4,\n",
    "    y=0.5,\n",
    "    showarrow=False,\n",
    "    font=dict(size=35,color=\"rgba(160, 160, 160, \" + str(watermark_opacity) + \")\"),  \n",
    "    textangle=-45  \n",
    ")\n",
    "\n",
    "fig.add_annotation(\n",
    "    text='Samara Alpha Management    Samara Alpha Management   Samara Alpha Management',\n",
    "    xref=\"paper\",\n",
    "    yref=\"paper\",\n",
    "    x=0.3,\n",
    "    y=0.5,\n",
    "    showarrow=False,\n",
    "    font=dict(size=35,color=\"rgba(160, 160, 160, \" + str(watermark_opacity) + \")\"),  \n",
    "    textangle=-45  \n",
    ")\n",
    "\n",
    "fig.update_xaxes(title_text=\"time\",showgrid=False,linecolor='rgb(93,94,95)',tickformat=\"%Y\")\n",
    "fig.update_yaxes(title_text=\"Hurst exponent\",showgrid=True,gridcolor='rgb(187,188,189)')\n",
    "# fig.show()\n",
    "image_name=f\"./hurst_exponent_BTC_10s_std.pdf\"\n",
    "fig.write_image(image_name)"
   ]
  },
  {
   "cell_type": "markdown",
   "id": "72ffcf35",
   "metadata": {},
   "source": [
    "# Hurst Exponent using DFA"
   ]
  },
  {
   "cell_type": "code",
   "execution_count": 1,
   "id": "ec5a05df",
   "metadata": {},
   "outputs": [],
   "source": [
    "import pandas as pd\n",
    "import numpy as np\n",
    "from cryptocmd import CmcScraper\n",
    "from scipy.optimize import curve_fit\n",
    "from scipy.stats import linregress\n",
    "import matplotlib.pyplot as plt\n",
    "from MFDFA import MFDFA\n",
    "\n",
    "import pandas_datareader.data as pdr\n",
    "import datetime as dt\n",
    "import pandas as pd\n",
    "import yfinance as yfin\n",
    "import os\n",
    "import plotly.graph_objects as go\n",
    "from plotly.subplots import make_subplots\n",
    "from scipy.interpolate import griddata\n",
    "import plotly.offline as pyo\n",
    "import numpy as np\n",
    "\n",
    "coin_ls=['BTC','EURS','BNB','ETH','EUROC']\n",
    "coin_data=pd.DataFrame()\n",
    "for symbol in coin_ls:\n",
    "    tmp=CmcScraper(symbol, '01-01-2011', '21-08-2023').get_dataframe()\n",
    "    tmp=tmp[['Date','Close']]\n",
    "    tmp.rename(columns={'Close':symbol},inplace=True)\n",
    "    tmp.set_index('Date',inplace=True)\n",
    "    if coin_data.shape[0]==0:\n",
    "        coin_data=tmp\n",
    "    else:\n",
    "        coin_data=pd.concat([coin_data,tmp],axis=1)"
   ]
  },
  {
   "cell_type": "code",
   "execution_count": 2,
   "id": "69c94f15",
   "metadata": {},
   "outputs": [],
   "source": [
    "yfin.pdr_override()"
   ]
  },
  {
   "cell_type": "code",
   "execution_count": 3,
   "id": "bae4bbc3",
   "metadata": {},
   "outputs": [],
   "source": [
    "start_date = dt.date(2011, 1, 1)\n",
    "end_date = dt.date.today()\n",
    "\n",
    "start_date_str = start_date.isoformat()\n",
    "end_date_str = end_date.isoformat()"
   ]
  },
  {
   "cell_type": "code",
   "execution_count": 4,
   "id": "cda638a2",
   "metadata": {},
   "outputs": [],
   "source": [
    "def convert_datetime_to_date(series):\n",
    "    hist_frame_df = series.to_frame()\n",
    "    hist_frame_df = hist_frame_df.reset_index()\n",
    "    hist_frame_df['Date'] = pd.to_datetime(hist_frame_df['Date']).dt.date\n",
    "    hist_frame_df = hist_frame_df.set_index('Date')\n",
    "    return hist_frame_df['Adj Close']"
   ]
  },
  {
   "cell_type": "code",
   "execution_count": 5,
   "id": "0da977cb",
   "metadata": {},
   "outputs": [
    {
     "name": "stdout",
     "output_type": "stream",
     "text": [
      "[*********************100%***********************]  1 of 1 completed\n"
     ]
    }
   ],
   "source": [
    "hist_frame=pdr.get_data_yahoo('EURUSD=X', start=start_date_str, end=end_date_str)['Adj Close'].dropna(axis=0)\n",
    "hist_frame_df = hist_frame.to_frame()\n",
    "hist_frame_df = hist_frame_df.reset_index()\n",
    "hist_frame_df['Date']=hist_frame_df['Date'].apply(lambda x: x.strftime(\"%Y-%m-%d\"))"
   ]
  },
  {
   "cell_type": "code",
   "execution_count": 6,
   "id": "8470a411",
   "metadata": {},
   "outputs": [
    {
     "name": "stdout",
     "output_type": "stream",
     "text": [
      "[*********************100%***********************]  1 of 1 completed\n",
      "3258\n",
      "[*********************100%***********************]  1 of 1 completed\n",
      "2109\n",
      "[*********************100%***********************]  1 of 1 completed\n",
      "2109\n",
      "[*********************100%***********************]  1 of 1 completed\n",
      "3290\n"
     ]
    }
   ],
   "source": [
    "symbol_ls=['BTC-USD','ETH-USD','BNB-USD','EURUSD=X']\n",
    "data=pd.DataFrame()\n",
    "data['Date']=hist_frame_df['Date']\n",
    "for symbol in symbol_ls:\n",
    "    hist_frame=pdr.get_data_yahoo(symbol, start=start_date_str, end=end_date_str)['Adj Close'].dropna(axis=0)\n",
    "    hist_frame_df = hist_frame.to_frame()\n",
    "    hist_frame_df = hist_frame_df.reset_index()\n",
    "    hist_frame_df.rename(columns={'Adj Close':symbol},inplace=True)\n",
    "    hist_frame_df['Date']=hist_frame_df['Date'].apply(lambda x: x.strftime(\"%Y-%m-%d\"))\n",
    "    print(hist_frame_df.shape[0])\n",
    "    data=pd.merge(data, hist_frame_df, on='Date',how='left')\n",
    "# hist_frame_df['Date'] = pd.to_datetime(hist_frame_df['Date']).dt.date\n",
    "# hist_frame_df = hist_frame_df.set_index('Date')\n",
    "# price_series = convert_datetime_to_date(hist_frame)"
   ]
  },
  {
   "cell_type": "code",
   "execution_count": 7,
   "id": "bb3d7275",
   "metadata": {},
   "outputs": [
    {
     "data": {
      "text/html": [
       "<div>\n",
       "<style scoped>\n",
       "    .dataframe tbody tr th:only-of-type {\n",
       "        vertical-align: middle;\n",
       "    }\n",
       "\n",
       "    .dataframe tbody tr th {\n",
       "        vertical-align: top;\n",
       "    }\n",
       "\n",
       "    .dataframe thead th {\n",
       "        text-align: right;\n",
       "    }\n",
       "</style>\n",
       "<table border=\"1\" class=\"dataframe\">\n",
       "  <thead>\n",
       "    <tr style=\"text-align: right;\">\n",
       "      <th></th>\n",
       "      <th>Date</th>\n",
       "      <th>BTC-USD</th>\n",
       "      <th>ETH-USD</th>\n",
       "      <th>BNB-USD</th>\n",
       "      <th>EURUSD=X</th>\n",
       "    </tr>\n",
       "  </thead>\n",
       "  <tbody>\n",
       "    <tr>\n",
       "      <th>0</th>\n",
       "      <td>2011-01-03</td>\n",
       "      <td>NaN</td>\n",
       "      <td>NaN</td>\n",
       "      <td>NaN</td>\n",
       "      <td>1.335791</td>\n",
       "    </tr>\n",
       "    <tr>\n",
       "      <th>1</th>\n",
       "      <td>2011-01-04</td>\n",
       "      <td>NaN</td>\n",
       "      <td>NaN</td>\n",
       "      <td>NaN</td>\n",
       "      <td>1.335684</td>\n",
       "    </tr>\n",
       "    <tr>\n",
       "      <th>2</th>\n",
       "      <td>2011-01-05</td>\n",
       "      <td>NaN</td>\n",
       "      <td>NaN</td>\n",
       "      <td>NaN</td>\n",
       "      <td>1.332108</td>\n",
       "    </tr>\n",
       "    <tr>\n",
       "      <th>3</th>\n",
       "      <td>2011-01-06</td>\n",
       "      <td>NaN</td>\n",
       "      <td>NaN</td>\n",
       "      <td>NaN</td>\n",
       "      <td>1.315686</td>\n",
       "    </tr>\n",
       "    <tr>\n",
       "      <th>4</th>\n",
       "      <td>2011-01-07</td>\n",
       "      <td>NaN</td>\n",
       "      <td>NaN</td>\n",
       "      <td>NaN</td>\n",
       "      <td>1.297993</td>\n",
       "    </tr>\n",
       "  </tbody>\n",
       "</table>\n",
       "</div>"
      ],
      "text/plain": [
       "         Date  BTC-USD  ETH-USD  BNB-USD  EURUSD=X\n",
       "0  2011-01-03      NaN      NaN      NaN  1.335791\n",
       "1  2011-01-04      NaN      NaN      NaN  1.335684\n",
       "2  2011-01-05      NaN      NaN      NaN  1.332108\n",
       "3  2011-01-06      NaN      NaN      NaN  1.315686\n",
       "4  2011-01-07      NaN      NaN      NaN  1.297993"
      ]
     },
     "execution_count": 7,
     "metadata": {},
     "output_type": "execute_result"
    }
   ],
   "source": [
    "data.head()"
   ]
  },
  {
   "cell_type": "code",
   "execution_count": 8,
   "id": "d3ea74dc",
   "metadata": {},
   "outputs": [],
   "source": [
    "coin_data.reset_index(inplace=True)"
   ]
  },
  {
   "cell_type": "code",
   "execution_count": 10,
   "id": "7243e3c7",
   "metadata": {},
   "outputs": [],
   "source": [
    "data['BTC-USD']=coin_data['BTC']"
   ]
  },
  {
   "cell_type": "code",
   "execution_count": 11,
   "id": "3df6f98b",
   "metadata": {},
   "outputs": [
    {
     "data": {
      "text/html": [
       "<div>\n",
       "<style scoped>\n",
       "    .dataframe tbody tr th:only-of-type {\n",
       "        vertical-align: middle;\n",
       "    }\n",
       "\n",
       "    .dataframe tbody tr th {\n",
       "        vertical-align: top;\n",
       "    }\n",
       "\n",
       "    .dataframe thead th {\n",
       "        text-align: right;\n",
       "    }\n",
       "</style>\n",
       "<table border=\"1\" class=\"dataframe\">\n",
       "  <thead>\n",
       "    <tr style=\"text-align: right;\">\n",
       "      <th></th>\n",
       "      <th>Date</th>\n",
       "      <th>BTC-USD</th>\n",
       "      <th>ETH-USD</th>\n",
       "      <th>BNB-USD</th>\n",
       "      <th>EURUSD=X</th>\n",
       "    </tr>\n",
       "  </thead>\n",
       "  <tbody>\n",
       "    <tr>\n",
       "      <th>0</th>\n",
       "      <td>2011-01-03</td>\n",
       "      <td>0.300000</td>\n",
       "      <td>NaN</td>\n",
       "      <td>NaN</td>\n",
       "      <td>1.335791</td>\n",
       "    </tr>\n",
       "    <tr>\n",
       "      <th>1</th>\n",
       "      <td>2011-01-04</td>\n",
       "      <td>0.300000</td>\n",
       "      <td>NaN</td>\n",
       "      <td>NaN</td>\n",
       "      <td>1.335684</td>\n",
       "    </tr>\n",
       "    <tr>\n",
       "      <th>2</th>\n",
       "      <td>2011-01-05</td>\n",
       "      <td>0.297348</td>\n",
       "      <td>NaN</td>\n",
       "      <td>NaN</td>\n",
       "      <td>1.332108</td>\n",
       "    </tr>\n",
       "    <tr>\n",
       "      <th>3</th>\n",
       "      <td>2011-01-06</td>\n",
       "      <td>0.299439</td>\n",
       "      <td>NaN</td>\n",
       "      <td>NaN</td>\n",
       "      <td>1.315686</td>\n",
       "    </tr>\n",
       "    <tr>\n",
       "      <th>4</th>\n",
       "      <td>2011-01-07</td>\n",
       "      <td>0.299252</td>\n",
       "      <td>NaN</td>\n",
       "      <td>NaN</td>\n",
       "      <td>1.297993</td>\n",
       "    </tr>\n",
       "  </tbody>\n",
       "</table>\n",
       "</div>"
      ],
      "text/plain": [
       "         Date   BTC-USD  ETH-USD  BNB-USD  EURUSD=X\n",
       "0  2011-01-03  0.300000      NaN      NaN  1.335791\n",
       "1  2011-01-04  0.300000      NaN      NaN  1.335684\n",
       "2  2011-01-05  0.297348      NaN      NaN  1.332108\n",
       "3  2011-01-06  0.299439      NaN      NaN  1.315686\n",
       "4  2011-01-07  0.299252      NaN      NaN  1.297993"
      ]
     },
     "execution_count": 11,
     "metadata": {},
     "output_type": "execute_result"
    }
   ],
   "source": [
    "data.head()"
   ]
  },
  {
   "cell_type": "code",
   "execution_count": 12,
   "id": "9c490a8d",
   "metadata": {},
   "outputs": [
    {
     "data": {
      "text/html": [
       "<div>\n",
       "<style scoped>\n",
       "    .dataframe tbody tr th:only-of-type {\n",
       "        vertical-align: middle;\n",
       "    }\n",
       "\n",
       "    .dataframe tbody tr th {\n",
       "        vertical-align: top;\n",
       "    }\n",
       "\n",
       "    .dataframe thead th {\n",
       "        text-align: right;\n",
       "    }\n",
       "</style>\n",
       "<table border=\"1\" class=\"dataframe\">\n",
       "  <thead>\n",
       "    <tr style=\"text-align: right;\">\n",
       "      <th></th>\n",
       "      <th>Date</th>\n",
       "      <th>BTC</th>\n",
       "      <th>EURS</th>\n",
       "      <th>BNB</th>\n",
       "      <th>ETH</th>\n",
       "      <th>EUROC</th>\n",
       "    </tr>\n",
       "  </thead>\n",
       "  <tbody>\n",
       "    <tr>\n",
       "      <th>0</th>\n",
       "      <td>2011-01-01</td>\n",
       "      <td>0.300000</td>\n",
       "      <td>NaN</td>\n",
       "      <td>NaN</td>\n",
       "      <td>NaN</td>\n",
       "      <td>NaN</td>\n",
       "    </tr>\n",
       "    <tr>\n",
       "      <th>1</th>\n",
       "      <td>2011-01-02</td>\n",
       "      <td>0.300000</td>\n",
       "      <td>NaN</td>\n",
       "      <td>NaN</td>\n",
       "      <td>NaN</td>\n",
       "      <td>NaN</td>\n",
       "    </tr>\n",
       "    <tr>\n",
       "      <th>2</th>\n",
       "      <td>2011-01-03</td>\n",
       "      <td>0.297348</td>\n",
       "      <td>NaN</td>\n",
       "      <td>NaN</td>\n",
       "      <td>NaN</td>\n",
       "      <td>NaN</td>\n",
       "    </tr>\n",
       "    <tr>\n",
       "      <th>3</th>\n",
       "      <td>2011-01-04</td>\n",
       "      <td>0.299439</td>\n",
       "      <td>NaN</td>\n",
       "      <td>NaN</td>\n",
       "      <td>NaN</td>\n",
       "      <td>NaN</td>\n",
       "    </tr>\n",
       "    <tr>\n",
       "      <th>4</th>\n",
       "      <td>2011-01-05</td>\n",
       "      <td>0.299252</td>\n",
       "      <td>NaN</td>\n",
       "      <td>NaN</td>\n",
       "      <td>NaN</td>\n",
       "      <td>NaN</td>\n",
       "    </tr>\n",
       "  </tbody>\n",
       "</table>\n",
       "</div>"
      ],
      "text/plain": [
       "        Date       BTC  EURS  BNB  ETH  EUROC\n",
       "0 2011-01-01  0.300000   NaN  NaN  NaN    NaN\n",
       "1 2011-01-02  0.300000   NaN  NaN  NaN    NaN\n",
       "2 2011-01-03  0.297348   NaN  NaN  NaN    NaN\n",
       "3 2011-01-04  0.299439   NaN  NaN  NaN    NaN\n",
       "4 2011-01-05  0.299252   NaN  NaN  NaN    NaN"
      ]
     },
     "execution_count": 12,
     "metadata": {},
     "output_type": "execute_result"
    }
   ],
   "source": [
    "coin_data.head()"
   ]
  },
  {
   "cell_type": "code",
   "execution_count": 13,
   "id": "7dcd074b",
   "metadata": {},
   "outputs": [],
   "source": [
    "data['ETH-USD']=coin_data['ETH']"
   ]
  },
  {
   "cell_type": "code",
   "execution_count": 14,
   "id": "bf3351a8",
   "metadata": {},
   "outputs": [
    {
     "data": {
      "text/html": [
       "<div>\n",
       "<style scoped>\n",
       "    .dataframe tbody tr th:only-of-type {\n",
       "        vertical-align: middle;\n",
       "    }\n",
       "\n",
       "    .dataframe tbody tr th {\n",
       "        vertical-align: top;\n",
       "    }\n",
       "\n",
       "    .dataframe thead th {\n",
       "        text-align: right;\n",
       "    }\n",
       "</style>\n",
       "<table border=\"1\" class=\"dataframe\">\n",
       "  <thead>\n",
       "    <tr style=\"text-align: right;\">\n",
       "      <th></th>\n",
       "      <th>Date</th>\n",
       "      <th>BTC-USD</th>\n",
       "      <th>ETH-USD</th>\n",
       "      <th>BNB-USD</th>\n",
       "      <th>EURUSD=X</th>\n",
       "    </tr>\n",
       "  </thead>\n",
       "  <tbody>\n",
       "    <tr>\n",
       "      <th>1679</th>\n",
       "      <td>2017-06-13</td>\n",
       "      <td>279.584991</td>\n",
       "      <td>2.772120</td>\n",
       "      <td>NaN</td>\n",
       "      <td>1.119620</td>\n",
       "    </tr>\n",
       "    <tr>\n",
       "      <th>1680</th>\n",
       "      <td>2017-06-14</td>\n",
       "      <td>260.997009</td>\n",
       "      <td>0.753325</td>\n",
       "      <td>NaN</td>\n",
       "      <td>1.120888</td>\n",
       "    </tr>\n",
       "    <tr>\n",
       "      <th>1681</th>\n",
       "      <td>2017-06-15</td>\n",
       "      <td>265.083008</td>\n",
       "      <td>0.701897</td>\n",
       "      <td>NaN</td>\n",
       "      <td>1.121579</td>\n",
       "    </tr>\n",
       "    <tr>\n",
       "      <th>1682</th>\n",
       "      <td>2017-06-16</td>\n",
       "      <td>264.470001</td>\n",
       "      <td>0.708448</td>\n",
       "      <td>NaN</td>\n",
       "      <td>1.114691</td>\n",
       "    </tr>\n",
       "    <tr>\n",
       "      <th>1683</th>\n",
       "      <td>2017-06-19</td>\n",
       "      <td>270.385986</td>\n",
       "      <td>1.067860</td>\n",
       "      <td>NaN</td>\n",
       "      <td>1.120825</td>\n",
       "    </tr>\n",
       "    <tr>\n",
       "      <th>...</th>\n",
       "      <td>...</td>\n",
       "      <td>...</td>\n",
       "      <td>...</td>\n",
       "      <td>...</td>\n",
       "      <td>...</td>\n",
       "    </tr>\n",
       "    <tr>\n",
       "      <th>3285</th>\n",
       "      <td>2023-08-14</td>\n",
       "      <td>7292.995078</td>\n",
       "      <td>132.633489</td>\n",
       "      <td>240.339249</td>\n",
       "      <td>1.094439</td>\n",
       "    </tr>\n",
       "    <tr>\n",
       "      <th>3286</th>\n",
       "      <td>2023-08-15</td>\n",
       "      <td>7193.598978</td>\n",
       "      <td>129.610859</td>\n",
       "      <td>236.679581</td>\n",
       "      <td>1.090988</td>\n",
       "    </tr>\n",
       "    <tr>\n",
       "      <th>3287</th>\n",
       "      <td>2023-08-16</td>\n",
       "      <td>7200.174393</td>\n",
       "      <td>130.802008</td>\n",
       "      <td>231.868744</td>\n",
       "      <td>1.090417</td>\n",
       "    </tr>\n",
       "    <tr>\n",
       "      <th>3288</th>\n",
       "      <td>2023-08-17</td>\n",
       "      <td>6985.470001</td>\n",
       "      <td>127.410182</td>\n",
       "      <td>218.535843</td>\n",
       "      <td>1.087488</td>\n",
       "    </tr>\n",
       "    <tr>\n",
       "      <th>3289</th>\n",
       "      <td>2023-08-18</td>\n",
       "      <td>7344.884183</td>\n",
       "      <td>134.171712</td>\n",
       "      <td>216.112549</td>\n",
       "      <td>1.087465</td>\n",
       "    </tr>\n",
       "  </tbody>\n",
       "</table>\n",
       "<p>1611 rows × 5 columns</p>\n",
       "</div>"
      ],
      "text/plain": [
       "            Date      BTC-USD     ETH-USD     BNB-USD  EURUSD=X\n",
       "1679  2017-06-13   279.584991    2.772120         NaN  1.119620\n",
       "1680  2017-06-14   260.997009    0.753325         NaN  1.120888\n",
       "1681  2017-06-15   265.083008    0.701897         NaN  1.121579\n",
       "1682  2017-06-16   264.470001    0.708448         NaN  1.114691\n",
       "1683  2017-06-19   270.385986    1.067860         NaN  1.120825\n",
       "...          ...          ...         ...         ...       ...\n",
       "3285  2023-08-14  7292.995078  132.633489  240.339249  1.094439\n",
       "3286  2023-08-15  7193.598978  129.610859  236.679581  1.090988\n",
       "3287  2023-08-16  7200.174393  130.802008  231.868744  1.090417\n",
       "3288  2023-08-17  6985.470001  127.410182  218.535843  1.087488\n",
       "3289  2023-08-18  7344.884183  134.171712  216.112549  1.087465\n",
       "\n",
       "[1611 rows x 5 columns]"
      ]
     },
     "execution_count": 14,
     "metadata": {},
     "output_type": "execute_result"
    }
   ],
   "source": [
    "data[pd.notnull(data['ETH-USD'])]"
   ]
  },
  {
   "cell_type": "code",
   "execution_count": 15,
   "id": "084b6ac7",
   "metadata": {},
   "outputs": [],
   "source": [
    "for col in symbol_ls:\n",
    "    data[col]=data[col].apply(lambda x: np.log(x) if x is not None else x)\n",
    "    data[col]=data[col].diff()"
   ]
  },
  {
   "cell_type": "code",
   "execution_count": 16,
   "id": "90f1b26b",
   "metadata": {},
   "outputs": [
    {
     "data": {
      "text/html": [
       "<div>\n",
       "<style scoped>\n",
       "    .dataframe tbody tr th:only-of-type {\n",
       "        vertical-align: middle;\n",
       "    }\n",
       "\n",
       "    .dataframe tbody tr th {\n",
       "        vertical-align: top;\n",
       "    }\n",
       "\n",
       "    .dataframe thead th {\n",
       "        text-align: right;\n",
       "    }\n",
       "</style>\n",
       "<table border=\"1\" class=\"dataframe\">\n",
       "  <thead>\n",
       "    <tr style=\"text-align: right;\">\n",
       "      <th></th>\n",
       "      <th>Date</th>\n",
       "      <th>BTC-USD</th>\n",
       "      <th>ETH-USD</th>\n",
       "      <th>BNB-USD</th>\n",
       "      <th>EURUSD=X</th>\n",
       "    </tr>\n",
       "  </thead>\n",
       "  <tbody>\n",
       "    <tr>\n",
       "      <th>1</th>\n",
       "      <td>2011-01-04</td>\n",
       "      <td>0.000000</td>\n",
       "      <td>NaN</td>\n",
       "      <td>NaN</td>\n",
       "      <td>-0.000080</td>\n",
       "    </tr>\n",
       "    <tr>\n",
       "      <th>2</th>\n",
       "      <td>2011-01-05</td>\n",
       "      <td>-0.008881</td>\n",
       "      <td>NaN</td>\n",
       "      <td>NaN</td>\n",
       "      <td>-0.002681</td>\n",
       "    </tr>\n",
       "    <tr>\n",
       "      <th>3</th>\n",
       "      <td>2011-01-06</td>\n",
       "      <td>0.007010</td>\n",
       "      <td>NaN</td>\n",
       "      <td>NaN</td>\n",
       "      <td>-0.012405</td>\n",
       "    </tr>\n",
       "    <tr>\n",
       "      <th>4</th>\n",
       "      <td>2011-01-07</td>\n",
       "      <td>-0.000625</td>\n",
       "      <td>NaN</td>\n",
       "      <td>NaN</td>\n",
       "      <td>-0.013538</td>\n",
       "    </tr>\n",
       "    <tr>\n",
       "      <th>5</th>\n",
       "      <td>2011-01-10</td>\n",
       "      <td>0.000135</td>\n",
       "      <td>NaN</td>\n",
       "      <td>NaN</td>\n",
       "      <td>-0.006559</td>\n",
       "    </tr>\n",
       "  </tbody>\n",
       "</table>\n",
       "</div>"
      ],
      "text/plain": [
       "         Date   BTC-USD  ETH-USD  BNB-USD  EURUSD=X\n",
       "1  2011-01-04  0.000000      NaN      NaN -0.000080\n",
       "2  2011-01-05 -0.008881      NaN      NaN -0.002681\n",
       "3  2011-01-06  0.007010      NaN      NaN -0.012405\n",
       "4  2011-01-07 -0.000625      NaN      NaN -0.013538\n",
       "5  2011-01-10  0.000135      NaN      NaN -0.006559"
      ]
     },
     "execution_count": 16,
     "metadata": {},
     "output_type": "execute_result"
    }
   ],
   "source": [
    "data[pd.notnull(data['BTC-USD'])].head()"
   ]
  },
  {
   "cell_type": "code",
   "execution_count": 17,
   "id": "c90a5010",
   "metadata": {},
   "outputs": [],
   "source": [
    "def H_DFA(y,m_ls):\n",
    "    \n",
    "    mean_y=np.mean(y)\n",
    "    x = np.cumsum(y - mean_y)\n",
    "    F_m=[]\n",
    "    M=len(y)\n",
    "    \n",
    "    for m in m_ls:\n",
    "        subsamples = np.array_split(x, M // m)\n",
    "        \n",
    "        xpol = []\n",
    "        for i, subsample in enumerate(subsamples):\n",
    "            x_values = np.arange(len(subsample))\n",
    "            slope, intercept, r_value, p_value, std_err =  linregress(x_values,subsample)\n",
    "\n",
    "            xpol.extend(slope*x_values+intercept)\n",
    "            \n",
    "        F_m.append(np.sqrt(sum((x-xpol)**2)/M))\n",
    "    \n",
    "    ln_m = np.log(m_ls)\n",
    "    ln_F_m = np.log(F_m)\n",
    "    \n",
    "    slope, intercept, r_value, p_value, std_err = linregress(ln_m,ln_F_m)\n",
    "    hurst_exponent=slope\n",
    "    \n",
    "    return hurst_exponent"
   ]
  },
  {
   "cell_type": "code",
   "execution_count": 26,
   "id": "7768e9ea",
   "metadata": {},
   "outputs": [],
   "source": [
    "w=500\n",
    "m_ls=[4,8,16,32,64,128]\n",
    "for col in symbol_ls:\n",
    "    y=data[col].values\n",
    "    hurst=[]\n",
    "    for start in range(w, len(y)):\n",
    "        lag, dfa=MFDFA(y[start-w:start], lag = np.array(m_ls), q = 2, order = 1)\n",
    "        H_hat=np.polyfit(np.log(lag),np.log(dfa),1)[0]\n",
    "        hurst.append(H_hat[0])\n",
    "#         hurst.append(H_DFA(y[start-w:start],m_ls))\n",
    "    data[f'{col}_H']=[None]*(data.shape[0]-len(hurst))+hurst"
   ]
  },
  {
   "cell_type": "code",
   "execution_count": 27,
   "id": "d6b76e4e",
   "metadata": {},
   "outputs": [
    {
     "data": {
      "text/html": [
       "<div>\n",
       "<style scoped>\n",
       "    .dataframe tbody tr th:only-of-type {\n",
       "        vertical-align: middle;\n",
       "    }\n",
       "\n",
       "    .dataframe tbody tr th {\n",
       "        vertical-align: top;\n",
       "    }\n",
       "\n",
       "    .dataframe thead th {\n",
       "        text-align: right;\n",
       "    }\n",
       "</style>\n",
       "<table border=\"1\" class=\"dataframe\">\n",
       "  <thead>\n",
       "    <tr style=\"text-align: right;\">\n",
       "      <th></th>\n",
       "      <th>Date</th>\n",
       "      <th>BTC</th>\n",
       "      <th>EURS</th>\n",
       "      <th>BNB</th>\n",
       "      <th>ETH</th>\n",
       "      <th>EUROC</th>\n",
       "    </tr>\n",
       "  </thead>\n",
       "  <tbody>\n",
       "    <tr>\n",
       "      <th>0</th>\n",
       "      <td>2011-01-01</td>\n",
       "      <td>0.300000</td>\n",
       "      <td>NaN</td>\n",
       "      <td>NaN</td>\n",
       "      <td>NaN</td>\n",
       "      <td>NaN</td>\n",
       "    </tr>\n",
       "    <tr>\n",
       "      <th>1</th>\n",
       "      <td>2011-01-02</td>\n",
       "      <td>0.300000</td>\n",
       "      <td>NaN</td>\n",
       "      <td>NaN</td>\n",
       "      <td>NaN</td>\n",
       "      <td>NaN</td>\n",
       "    </tr>\n",
       "    <tr>\n",
       "      <th>2</th>\n",
       "      <td>2011-01-03</td>\n",
       "      <td>0.297348</td>\n",
       "      <td>NaN</td>\n",
       "      <td>NaN</td>\n",
       "      <td>NaN</td>\n",
       "      <td>NaN</td>\n",
       "    </tr>\n",
       "    <tr>\n",
       "      <th>3</th>\n",
       "      <td>2011-01-04</td>\n",
       "      <td>0.299439</td>\n",
       "      <td>NaN</td>\n",
       "      <td>NaN</td>\n",
       "      <td>NaN</td>\n",
       "      <td>NaN</td>\n",
       "    </tr>\n",
       "    <tr>\n",
       "      <th>4</th>\n",
       "      <td>2011-01-05</td>\n",
       "      <td>0.299252</td>\n",
       "      <td>NaN</td>\n",
       "      <td>NaN</td>\n",
       "      <td>NaN</td>\n",
       "      <td>NaN</td>\n",
       "    </tr>\n",
       "  </tbody>\n",
       "</table>\n",
       "</div>"
      ],
      "text/plain": [
       "        Date       BTC  EURS  BNB  ETH  EUROC\n",
       "0 2011-01-01  0.300000   NaN  NaN  NaN    NaN\n",
       "1 2011-01-02  0.300000   NaN  NaN  NaN    NaN\n",
       "2 2011-01-03  0.297348   NaN  NaN  NaN    NaN\n",
       "3 2011-01-04  0.299439   NaN  NaN  NaN    NaN\n",
       "4 2011-01-05  0.299252   NaN  NaN  NaN    NaN"
      ]
     },
     "execution_count": 27,
     "metadata": {},
     "output_type": "execute_result"
    }
   ],
   "source": [
    "coin_data.head()"
   ]
  },
  {
   "cell_type": "code",
   "execution_count": null,
   "id": "d0503416",
   "metadata": {},
   "outputs": [],
   "source": []
  },
  {
   "cell_type": "code",
   "execution_count": 30,
   "id": "5bf7744d",
   "metadata": {},
   "outputs": [],
   "source": [
    "import plotly.graph_objects as go\n",
    "fig = go.Figure()\n",
    "color=['red','green','blue','grey']\n",
    "for i in range(0,4):\n",
    "    col=f'{symbol_ls[i]}_H'\n",
    "    fig.add_trace(\n",
    "        go.Scatter(\n",
    "            x=data[pd.notnull(data[col])]['Date'], \n",
    "            y=data[pd.notnull(data[col])][col].values,\n",
    "            mode=\"lines\",\n",
    "            line=go.scatter.Line(color=color[i], width=0.8),\n",
    "\n",
    "            name=col)\n",
    "    )\n",
    "\n",
    "\n",
    "\n",
    "fig.update_layout(yaxis_tickformat=',',\n",
    "                  xaxis_tickformat='%d %b <br>%Y',\n",
    "                  title={'text': \"Hurst Exponent of BTC, ETH, BNB, EUR\", 'y': 0.9, 'x': 0.5,\n",
    "                         'xanchor': \"center\",\n",
    "                         'yanchor': 'top'},\n",
    "                  title_font_color='rgb(78,144,10)',\n",
    "                  font_color='rgb(25,26,25)',\n",
    "                  \n",
    "                  paper_bgcolor='rgba(0,0,0,0)',\n",
    "                  plot_bgcolor='rgba(0,0,0,0)',\n",
    "                  legend=dict(\n",
    "                       orientation=\"h\",\n",
    "                       yanchor=\"bottom\",\n",
    "                       y=1.02,\n",
    "                       xanchor=\"right\",\n",
    "                       x=1)\n",
    "                  )\n",
    "fig.update_xaxes(title_text=\"time\",showgrid=False,linecolor='rgb(93,94,95)',tickformat=\"%Y\")\n",
    "fig.update_yaxes(title_text=\"Hurst exponent\",showgrid=True,gridcolor='rgb(187,188,189)')\n",
    "# fig.show()\n",
    "image_name=f\"./hurst_exponent_BTC_ETH_BNB_EUR.pdf\"\n",
    "fig.write_image(image_name)"
   ]
  },
  {
   "cell_type": "code",
   "execution_count": null,
   "id": "db01e650",
   "metadata": {},
   "outputs": [],
   "source": []
  },
  {
   "cell_type": "code",
   "execution_count": null,
   "id": "9e90c6c8",
   "metadata": {},
   "outputs": [],
   "source": []
  },
  {
   "cell_type": "code",
   "execution_count": null,
   "id": "5e1833d3",
   "metadata": {},
   "outputs": [],
   "source": []
  },
  {
   "cell_type": "code",
   "execution_count": null,
   "id": "5be42d6d",
   "metadata": {},
   "outputs": [],
   "source": []
  },
  {
   "cell_type": "code",
   "execution_count": 67,
   "id": "df633af8",
   "metadata": {},
   "outputs": [
    {
     "data": {
      "text/plain": [
       "1716"
      ]
     },
     "execution_count": 67,
     "metadata": {},
     "output_type": "execute_result"
    }
   ],
   "source": [
    "len(bnb)"
   ]
  },
  {
   "cell_type": "code",
   "execution_count": 68,
   "id": "7e011b8c",
   "metadata": {},
   "outputs": [
    {
     "data": {
      "text/plain": [
       "2532"
      ]
     },
     "execution_count": 68,
     "metadata": {},
     "output_type": "execute_result"
    }
   ],
   "source": [
    "4248-1716"
   ]
  },
  {
   "cell_type": "code",
   "execution_count": 69,
   "id": "430bc489",
   "metadata": {},
   "outputs": [
    {
     "data": {
      "text/html": [
       "<div>\n",
       "<style scoped>\n",
       "    .dataframe tbody tr th:only-of-type {\n",
       "        vertical-align: middle;\n",
       "    }\n",
       "\n",
       "    .dataframe tbody tr th {\n",
       "        vertical-align: top;\n",
       "    }\n",
       "\n",
       "    .dataframe thead th {\n",
       "        text-align: right;\n",
       "    }\n",
       "</style>\n",
       "<table border=\"1\" class=\"dataframe\">\n",
       "  <thead>\n",
       "    <tr style=\"text-align: right;\">\n",
       "      <th></th>\n",
       "      <th>Date</th>\n",
       "      <th>BTC</th>\n",
       "      <th>EURS</th>\n",
       "      <th>BNB</th>\n",
       "      <th>BTC_H</th>\n",
       "      <th>EURS_H</th>\n",
       "      <th>BNB_H</th>\n",
       "    </tr>\n",
       "  </thead>\n",
       "  <tbody>\n",
       "    <tr>\n",
       "      <th>0</th>\n",
       "      <td>2012-01-01</td>\n",
       "      <td>5.132450</td>\n",
       "      <td>NaN</td>\n",
       "      <td>NaN</td>\n",
       "      <td>NaN</td>\n",
       "      <td>NaN</td>\n",
       "      <td>NaN</td>\n",
       "    </tr>\n",
       "    <tr>\n",
       "      <th>1</th>\n",
       "      <td>2012-01-02</td>\n",
       "      <td>5.218210</td>\n",
       "      <td>NaN</td>\n",
       "      <td>NaN</td>\n",
       "      <td>NaN</td>\n",
       "      <td>NaN</td>\n",
       "      <td>NaN</td>\n",
       "    </tr>\n",
       "    <tr>\n",
       "      <th>2</th>\n",
       "      <td>2012-01-03</td>\n",
       "      <td>4.898447</td>\n",
       "      <td>NaN</td>\n",
       "      <td>NaN</td>\n",
       "      <td>NaN</td>\n",
       "      <td>NaN</td>\n",
       "      <td>NaN</td>\n",
       "    </tr>\n",
       "    <tr>\n",
       "      <th>3</th>\n",
       "      <td>2012-01-04</td>\n",
       "      <td>5.546638</td>\n",
       "      <td>NaN</td>\n",
       "      <td>NaN</td>\n",
       "      <td>NaN</td>\n",
       "      <td>NaN</td>\n",
       "      <td>NaN</td>\n",
       "    </tr>\n",
       "    <tr>\n",
       "      <th>4</th>\n",
       "      <td>2012-01-05</td>\n",
       "      <td>6.671950</td>\n",
       "      <td>NaN</td>\n",
       "      <td>NaN</td>\n",
       "      <td>NaN</td>\n",
       "      <td>NaN</td>\n",
       "      <td>NaN</td>\n",
       "    </tr>\n",
       "  </tbody>\n",
       "</table>\n",
       "</div>"
      ],
      "text/plain": [
       "        Date       BTC  EURS  BNB  BTC_H  EURS_H  BNB_H\n",
       "0 2012-01-01  5.132450   NaN  NaN    NaN     NaN    NaN\n",
       "1 2012-01-02  5.218210   NaN  NaN    NaN     NaN    NaN\n",
       "2 2012-01-03  4.898447   NaN  NaN    NaN     NaN    NaN\n",
       "3 2012-01-04  5.546638   NaN  NaN    NaN     NaN    NaN\n",
       "4 2012-01-05  6.671950   NaN  NaN    NaN     NaN    NaN"
      ]
     },
     "execution_count": 69,
     "metadata": {},
     "output_type": "execute_result"
    }
   ],
   "source": [
    "data['BTC_H']=[None] * 500+btc\n",
    "data['EURS_H']=[None] * 2902+eur\n",
    "data['BNB_H']=[None] * 2532+bnb\n",
    "data.head()"
   ]
  },
  {
   "cell_type": "code",
   "execution_count": 28,
   "id": "e4d023a2",
   "metadata": {},
   "outputs": [],
   "source": [
    "y=data['Close'].values\n",
    "w=500\n",
    "m_ls=[4,8,16,32,64,128]\n",
    "bnb=[]\n",
    "btc=[]\n",
    "eur=[]\n",
    "y1=data['BTC'].values\n",
    "y2=data['EURS'].values\n",
    "y3=data['BNB'].values\n",
    "for start in range(w, len(y)):\n",
    "    bnb.append(H_DFA(y[start-w:start],m_ls))\n"
   ]
  },
  {
   "cell_type": "code",
   "execution_count": 74,
   "id": "eecd6941",
   "metadata": {},
   "outputs": [
    {
     "data": {
      "image/png": "[encoded data removed]",
      "text/plain": [
       "<Figure size 640x480 with 1 Axes>"
      ]
     },
     "metadata": {},
     "output_type": "display_data"
    }
   ],
   "source": [
    "plt.plot(data['Date'], data['BTC_H'], label='BTC')\n",
    "plt.plot(data['Date'], data['EURS_H'], label='EURS')\n",
    "plt.plot(data['Date'], data['BNB_H'], label='BNB')\n",
    "plt.legend()\n",
    "plt.show()"
   ]
  },
  {
   "cell_type": "markdown",
   "id": "68a5f31d",
   "metadata": {},
   "source": [
    "# three diffrent time series"
   ]
  },
  {
   "cell_type": "code",
   "execution_count": 76,
   "id": "8c9cccc5",
   "metadata": {},
   "outputs": [
    {
     "name": "stdout",
     "output_type": "stream",
     "text": [
      "Estimated H = 0.536\n",
      "Estimated H = 1.504\n",
      "Estimated H = 1.965\n"
     ]
    }
   ],
   "source": [
    "sample_size=500\n",
    "scalar=100\n",
    "m_ls=[4,8,16,32,64,128]\n",
    "df = pd.DataFrame(data={\"mean_rev\": np.log(np.random.randn(sample_size) + scalar),\n",
    "                        \"gbm\": np.log(np.cumsum(np.random.randn(sample_size)) + scalar),\n",
    "                        \"trending\": np.log(np.cumsum(np.random.randn(sample_size) + 1) + scalar)})\n",
    "for column in df.columns:\n",
    "    lag, dfa=MFDFA(df[column].values, lag = np.array(m_ls), q = 2, order = 1)\n",
    "    H_hat=np.polyfit(np.log(lag),np.log(dfa),1)[0]\n",
    "    print('Estimated H = '+'{:.3f}'.format(H_hat[0]))\n"
   ]
  },
  {
   "cell_type": "code",
   "execution_count": 9,
   "id": "86587209",
   "metadata": {},
   "outputs": [
    {
     "name": "stdout",
     "output_type": "stream",
     "text": [
      "Estimated H = 0.571\n",
      "Estimated H = 1.607\n",
      "Estimated H = 2.096\n"
     ]
    }
   ],
   "source": [
    "for column in df.columns:\n",
    "    print('Estimated H = '+'{:.3f}'.format(H_DFA(df[column].values,m_ls)))"
   ]
  },
  {
   "cell_type": "code",
   "execution_count": 115,
   "id": "971f9c45",
   "metadata": {},
   "outputs": [
    {
     "data": {
      "image/png": "[encoded data removed]",
      "text/plain": [
       "<Figure size 640x480 with 1 Axes>"
      ]
     },
     "metadata": {},
     "output_type": "display_data"
    }
   ],
   "source": [
    "plt.plot(df['mean_rev'])\n",
    "# plt.annotate(f'Mean reverting\\nHurst Exponent:{H_DFA(df[\"mean_rev\"].values,m_ls):.3f}', xy=(1, 20), xytext=(1, 4),\n",
    "#              fontsize=12, color='black',\n",
    "#              bbox=dict(boxstyle='square, pad=0.3', edgecolor='white', facecolor='white'))\n",
    "plt.title(f'Mean reverting\\nHurst Exponent:{H_DFA(df[\"mean_rev\"].values,m_ls):.3f}')\n",
    "# plt.text(0, 3, 'Random Walk', fontsize=12, color='red')\n",
    "# plt.text(0, 2.5, f'Hurst Exponent:{H_DFA(samples,m_ls):.3f}', fontsize=12, color='red')\n",
    "plt.show()"
   ]
  },
  {
   "cell_type": "code",
   "execution_count": 116,
   "id": "380c718e",
   "metadata": {},
   "outputs": [
    {
     "data": {
      "image/png": "[encoded data removed]",
      "text/plain": [
       "<Figure size 640x480 with 1 Axes>"
      ]
     },
     "metadata": {},
     "output_type": "display_data"
    }
   ],
   "source": [
    "plt.plot(df['gbm'])\n",
    "plt.title(f'Random walk\\nHurst Exponent:{H_DFA(df[\"gbm\"].values,m_ls):.3f}')\n",
    "plt.show()"
   ]
  },
  {
   "cell_type": "code",
   "execution_count": 117,
   "id": "a94c6024",
   "metadata": {},
   "outputs": [
    {
     "data": {
      "image/png": "[encoded data removed]",
      "text/plain": [
       "<Figure size 640x480 with 1 Axes>"
      ]
     },
     "metadata": {},
     "output_type": "display_data"
    }
   ],
   "source": [
    "plt.plot(df['trending'])\n",
    "plt.title(f'Trending\\nHurst Exponent:{H_DFA(df[\"trending\"].values,m_ls):.3f}')\n",
    "plt.show()"
   ]
  },
  {
   "cell_type": "code",
   "execution_count": null,
   "id": "00006067",
   "metadata": {},
   "outputs": [],
   "source": []
  },
  {
   "cell_type": "code",
   "execution_count": null,
   "id": "f0132685",
   "metadata": {},
   "outputs": [],
   "source": []
  },
  {
   "cell_type": "code",
   "execution_count": null,
   "id": "93258317",
   "metadata": {},
   "outputs": [],
   "source": []
  },
  {
   "cell_type": "code",
   "execution_count": null,
   "id": "6282912b",
   "metadata": {},
   "outputs": [],
   "source": []
  },
  {
   "cell_type": "code",
   "execution_count": null,
   "id": "838f01aa",
   "metadata": {},
   "outputs": [],
   "source": []
  },
  {
   "cell_type": "code",
   "execution_count": null,
   "id": "b9a3352f",
   "metadata": {},
   "outputs": [],
   "source": []
  },
  {
   "cell_type": "code",
   "execution_count": null,
   "id": "eceb3a06",
   "metadata": {},
   "outputs": [],
   "source": []
  },
  {
   "cell_type": "code",
   "execution_count": null,
   "id": "8e62f73b",
   "metadata": {},
   "outputs": [],
   "source": []
  },
  {
   "cell_type": "code",
   "execution_count": null,
   "id": "f582e7ec",
   "metadata": {},
   "outputs": [],
   "source": []
  },
  {
   "cell_type": "markdown",
   "id": "b4e215aa",
   "metadata": {},
   "source": [
    "# trial"
   ]
  },
  {
   "cell_type": "code",
   "execution_count": 56,
   "id": "ea0a60bc",
   "metadata": {},
   "outputs": [
    {
     "data": {
      "text/plain": [
       "4247   -17.904759\n",
       "4246   -17.818999\n",
       "4245   -18.138762\n",
       "4244   -17.490571\n",
       "4243   -16.365259\n",
       "          ...    \n",
       "3752    94.162788\n",
       "3751    92.205787\n",
       "3750    91.962791\n",
       "3749    94.942795\n",
       "3748    88.462791\n",
       "Name: Close, Length: 500, dtype: float64"
      ]
     },
     "execution_count": 56,
     "metadata": {},
     "output_type": "execute_result"
    }
   ],
   "source": [
    "y=data[:500]\n",
    "y=y['Close']\n",
    "mean_y=np.mean(y)\n",
    "\n",
    "y-mean_y"
   ]
  },
  {
   "cell_type": "code",
   "execution_count": 55,
   "id": "8a39e6ad",
   "metadata": {},
   "outputs": [
    {
     "data": {
      "text/plain": [
       "4247   -1.790476e+01\n",
       "4246   -3.572376e+01\n",
       "4245   -5.386252e+01\n",
       "4244   -7.135309e+01\n",
       "4243   -8.771835e+01\n",
       "            ...     \n",
       "3752   -3.675742e+02\n",
       "3751   -2.753684e+02\n",
       "3750   -1.834056e+02\n",
       "3749   -8.846279e+01\n",
       "3748    4.661160e-12\n",
       "Name: Close, Length: 500, dtype: float64"
      ]
     },
     "execution_count": 55,
     "metadata": {},
     "output_type": "execute_result"
    }
   ],
   "source": [
    "np.cumsum(y - mean_y)"
   ]
  },
  {
   "cell_type": "code",
   "execution_count": 21,
   "id": "bbd79171",
   "metadata": {},
   "outputs": [
    {
     "data": {
      "text/plain": [
       "1.5722497615023256"
      ]
     },
     "execution_count": 21,
     "metadata": {},
     "output_type": "execute_result"
    }
   ],
   "source": [
    "mean_y=np.mean(y)\n",
    "x = np.cumsum(y - mean_y)\n",
    "F_m=[]\n",
    "M=len(y)\n",
    "\n",
    "for m in m_ls:\n",
    "    subsamples = np.array_split(x, M // m)\n",
    "\n",
    "    xpol = []\n",
    "    for i, subsample in enumerate(subsamples):\n",
    "        x_values = np.arange(len(subsample))\n",
    "        slope, intercept, r_value, p_value, std_err =  linregress(x_values,subsample)\n",
    "\n",
    "        xpol.extend(slope*x_values+intercept)\n",
    "\n",
    "    F_m.append(np.sqrt(sum((x-xpol)**2)/M))\n",
    "\n",
    "ln_m = np.log(m_ls)\n",
    "ln_F_m = np.log(F_m)\n",
    "\n",
    "slope, intercept, r_value, p_value, std_err = linregress(ln_m,ln_F_m)\n",
    "hurst_exponent=slope\n",
    "hurst_exponent"
   ]
  },
  {
   "cell_type": "code",
   "execution_count": 7,
   "id": "c5023c51",
   "metadata": {},
   "outputs": [],
   "source": [
    "def H_DFA(y,m_ls):\n",
    "    \n",
    "    mean_y=np.mean(y)\n",
    "    x = np.cumsum(y - mean_y)\n",
    "    F_m=[]\n",
    "    M=len(y)\n",
    "    \n",
    "    for m in m_ls:\n",
    "        subsamples = np.array_split(x, M // m)\n",
    "        \n",
    "        xpol = []\n",
    "        for i, subsample in enumerate(subsamples):\n",
    "            x_values = np.arange(len(subsample))\n",
    "            slope, intercept, r_value, p_value, std_err =  linregress(x_values,subsample)\n",
    "\n",
    "            xpol.extend(slope*x_values+intercept)\n",
    "            \n",
    "        F_m.append(np.sqrt(sum((x-xpol)**2)/M))\n",
    "    \n",
    "    ln_m = np.log(m_ls)\n",
    "    ln_F_m = np.log(F_m)\n",
    "    \n",
    "    slope, intercept, r_value, p_value, std_err = linregress(ln_m,ln_F_m)\n",
    "    hurst_exponent=slope\n",
    "    \n",
    "    return hurst_exponent"
   ]
  },
  {
   "cell_type": "markdown",
   "id": "61ec2891",
   "metadata": {},
   "source": [
    "# gennerate 3 class time series"
   ]
  },
  {
   "cell_type": "code",
   "execution_count": 59,
   "id": "5a269c1f",
   "metadata": {},
   "outputs": [
    {
     "data": {
      "image/png": "[encoded data removed]",
      "text/plain": [
       "<Figure size 640x480 with 1 Axes>"
      ]
     },
     "metadata": {},
     "output_type": "display_data"
    }
   ],
   "source": [
    "import numpy\n",
    "import matplotlib.pyplot as plt\n",
    "\n",
    "# random walk\n",
    "mean = 0\n",
    "std = 1 \n",
    "num_samples = 1000\n",
    "samples = numpy.random.normal(mean, std, size=num_samples)\n",
    "\n",
    "plt.plot(samples)\n",
    "plt.annotate(f'Random Walk\\nHurst Exponent:{H_DFA(samples,m_ls):.3f}', xy=(0, 2), xytext=(1.2, 2),\n",
    "             fontsize=12, color='black',\n",
    "             bbox=dict(boxstyle='square, pad=0.3', edgecolor='white', facecolor='white'))\n",
    "\n",
    "# plt.text(0, 3, 'Random Walk', fontsize=12, color='red')\n",
    "# plt.text(0, 2.5, f'Hurst Exponent:{H_DFA(samples,m_ls):.3f}', fontsize=12, color='red')\n",
    "plt.show()\n",
    "\n",
    "# plt.annotate('Point 1', xy=(1, 2), xytext=(1.5, 3),\n",
    "#              arrowprops=dict(arrowstyle='->', color='red'))\n",
    "# y=data['Close']\n",
    "# w=500\n",
    "# m_ls=[4,8,16,32,64,128]\n",
    "# H_dfa=[]\n",
    "# H_DFA(y[:500],m_ls)"
   ]
  },
  {
   "cell_type": "code",
   "execution_count": 81,
   "id": "34cc5deb",
   "metadata": {},
   "outputs": [
    {
     "name": "stdout",
     "output_type": "stream",
     "text": [
      "mean_rev: 0.6473\n",
      "gbm: 1.6061\n",
      "trending: 2.0661\n"
     ]
    }
   ],
   "source": [
    "sample_size=500\n",
    "scalar=100\n",
    "df = pd.DataFrame(data={\"mean_rev\": np.log(np.random.randn(sample_size) + scalar),\n",
    "                        \"gbm\": np.log(np.cumsum(np.random.randn(sample_size)) + scalar),\n",
    "                        \"trending\": np.log(np.cumsum(np.random.randn(sample_size) + 1) + scalar)})\n",
    "for column in df.columns:\n",
    "    print(f\"{column}: {H_DFA(df[column].values, m_ls):.4f}\")"
   ]
  },
  {
   "cell_type": "code",
   "execution_count": 80,
   "id": "2bfb549d",
   "metadata": {},
   "outputs": [
    {
     "name": "stdout",
     "output_type": "stream",
     "text": [
      "Hurst Exponent:2.012\n"
     ]
    },
    {
     "data": {
      "image/png": "[encoded data removed]",
      "text/plain": [
       "<Figure size 640x480 with 1 Axes>"
      ]
     },
     "metadata": {},
     "output_type": "display_data"
    }
   ],
   "source": [
    "# mean reverting\n",
    "mean = 0.0  \n",
    "theta = 0.1  \n",
    "sigma = 0.2  \n",
    "dt = 0.01  \n",
    "T = 10.0  \n",
    "num_steps = int(T / dt)  \n",
    "t = np.linspace(0.0, T, num_steps)  \n",
    "\n",
    "\n",
    "x = np.zeros(num_steps)\n",
    "x[0] = 0.0\n",
    "\n",
    "for i in range(1, num_steps):\n",
    "    x[i] = x[i - 1] + theta * (mean - x[i - 1]) * dt + sigma * np.sqrt(dt) * np.random.normal()\n",
    "\n",
    "sample_size=1000\n",
    "scalar=100\n",
    "x=np.log(np.cumsum(np.random.randn(sample_size) + 1) + scalar)\n",
    "\n",
    "print(f'Hurst Exponent:{H_DFA(x,m_ls):.3f}')\n",
    "plt.plot(x)\n",
    "plt.annotate(f'Random Walk\\nHurst Exponent:{H_DFA(x,m_ls):.3f}', xy=(1, 3), xytext=(1.2, 2),\n",
    "             fontsize=12, color='black',\n",
    "             bbox=dict(boxstyle='square, pad=0.3', edgecolor='white', facecolor='white'))\n",
    "\n",
    "plt.show()"
   ]
  },
  {
   "cell_type": "code",
   "execution_count": 49,
   "id": "3a342f36",
   "metadata": {},
   "outputs": [
    {
     "ename": "NameError",
     "evalue": "name 'close' is not defined",
     "output_type": "error",
     "traceback": [
      "\u001b[0;31m---------------------------------------------------------------------------\u001b[0m",
      "\u001b[0;31mNameError\u001b[0m                                 Traceback (most recent call last)",
      "Cell \u001b[0;32mIn[49], line 7\u001b[0m\n\u001b[1;32m      4\u001b[0m H_dfa\u001b[38;5;241m=\u001b[39m[]\n\u001b[1;32m      6\u001b[0m \u001b[38;5;28;01mfor\u001b[39;00m start \u001b[38;5;129;01min\u001b[39;00m \u001b[38;5;28mrange\u001b[39m(w, \u001b[38;5;28mlen\u001b[39m(y)):\n\u001b[0;32m----> 7\u001b[0m     slopes, smooth, cu, cd \u001b[38;5;241m=\u001b[39m hurst_exponent(\u001b[43mclose\u001b[49m, barsize, slen, Min, Max)\n\u001b[1;32m      8\u001b[0m     H_dfa\u001b[38;5;241m.\u001b[39mappend(slopes[\u001b[38;5;241m-\u001b[39m\u001b[38;5;241m1\u001b[39m])\n",
      "\u001b[0;31mNameError\u001b[0m: name 'close' is not defined"
     ]
    }
   ],
   "source": [
    "y=data['Close']\n",
    "w=500\n",
    "m_ls=[4,8,16,32,64,128]\n",
    "H_dfa=[]\n",
    "\n",
    "for start in range(w, len(y)):\n",
    "    slopes, smooth, cu, cd = hurst_exponent(close, barsize, slen, Min, Max)\n",
    "    H_dfa.append(slopes[-1])\n",
    "#     H_dfa.append(H_DFA(y[start-w:start],m_ls))"
   ]
  },
  {
   "cell_type": "code",
   "execution_count": null,
   "id": "42878a4e",
   "metadata": {},
   "outputs": [],
   "source": [
    "BTC=H_dfa"
   ]
  },
  {
   "cell_type": "code",
   "execution_count": 35,
   "id": "e195a264",
   "metadata": {},
   "outputs": [
    {
     "data": {
      "image/png": "[encoded data removed]",
      "text/plain": [
       "<Figure size 640x480 with 1 Axes>"
      ]
     },
     "metadata": {},
     "output_type": "display_data"
    }
   ],
   "source": [
    "plt.plot(data['Date'][500:2000], H_dfa[:1500])\n",
    "# plt.plot(ln_m, slope * ln_m + intercept, color='red', label='Regression Line')\n",
    "# plt.xlabel('ln(m)')\n",
    "# plt.ylabel('ln(F(m))')\n",
    "# plt.legend()\n",
    "plt.show()\n"
   ]
  },
  {
   "cell_type": "code",
   "execution_count": 4,
   "id": "747c0584",
   "metadata": {},
   "outputs": [
    {
     "data": {
      "text/html": [
       "<div>\n",
       "<style scoped>\n",
       "    .dataframe tbody tr th:only-of-type {\n",
       "        vertical-align: middle;\n",
       "    }\n",
       "\n",
       "    .dataframe tbody tr th {\n",
       "        vertical-align: top;\n",
       "    }\n",
       "\n",
       "    .dataframe thead th {\n",
       "        text-align: right;\n",
       "    }\n",
       "</style>\n",
       "<table border=\"1\" class=\"dataframe\">\n",
       "  <thead>\n",
       "    <tr style=\"text-align: right;\">\n",
       "      <th></th>\n",
       "      <th>Date</th>\n",
       "      <th>Open</th>\n",
       "      <th>High</th>\n",
       "      <th>Low</th>\n",
       "      <th>Close</th>\n",
       "      <th>Volume</th>\n",
       "      <th>Market Cap</th>\n",
       "    </tr>\n",
       "  </thead>\n",
       "  <tbody>\n",
       "    <tr>\n",
       "      <th>4247</th>\n",
       "      <td>2012-01-01</td>\n",
       "      <td>4.612118</td>\n",
       "      <td>6.159421</td>\n",
       "      <td>4.612118</td>\n",
       "      <td>5.132450</td>\n",
       "      <td>108873.83</td>\n",
       "      <td>41104894.20</td>\n",
       "    </tr>\n",
       "    <tr>\n",
       "      <th>4246</th>\n",
       "      <td>2012-01-02</td>\n",
       "      <td>5.132012</td>\n",
       "      <td>5.752127</td>\n",
       "      <td>4.557404</td>\n",
       "      <td>5.218210</td>\n",
       "      <td>69453.09</td>\n",
       "      <td>41831181.11</td>\n",
       "    </tr>\n",
       "    <tr>\n",
       "      <th>4245</th>\n",
       "      <td>2012-01-03</td>\n",
       "      <td>5.217731</td>\n",
       "      <td>5.578825</td>\n",
       "      <td>4.747638</td>\n",
       "      <td>4.898447</td>\n",
       "      <td>125476.58</td>\n",
       "      <td>39306976.37</td>\n",
       "    </tr>\n",
       "    <tr>\n",
       "      <th>4244</th>\n",
       "      <td>2012-01-04</td>\n",
       "      <td>4.913304</td>\n",
       "      <td>6.723132</td>\n",
       "      <td>4.857608</td>\n",
       "      <td>5.546638</td>\n",
       "      <td>131362.55</td>\n",
       "      <td>44549391.44</td>\n",
       "    </tr>\n",
       "    <tr>\n",
       "      <th>4243</th>\n",
       "      <td>2012-01-05</td>\n",
       "      <td>5.561160</td>\n",
       "      <td>7.390918</td>\n",
       "      <td>5.561160</td>\n",
       "      <td>6.671950</td>\n",
       "      <td>182401.27</td>\n",
       "      <td>53636891.29</td>\n",
       "    </tr>\n",
       "  </tbody>\n",
       "</table>\n",
       "</div>"
      ],
      "text/plain": [
       "           Date      Open      High       Low     Close     Volume  \\\n",
       "4247 2012-01-01  4.612118  6.159421  4.612118  5.132450  108873.83   \n",
       "4246 2012-01-02  5.132012  5.752127  4.557404  5.218210   69453.09   \n",
       "4245 2012-01-03  5.217731  5.578825  4.747638  4.898447  125476.58   \n",
       "4244 2012-01-04  4.913304  6.723132  4.857608  5.546638  131362.55   \n",
       "4243 2012-01-05  5.561160  7.390918  5.561160  6.671950  182401.27   \n",
       "\n",
       "       Market Cap  \n",
       "4247  41104894.20  \n",
       "4246  41831181.11  \n",
       "4245  39306976.37  \n",
       "4244  44549391.44  \n",
       "4243  53636891.29  "
      ]
     },
     "execution_count": 4,
     "metadata": {},
     "output_type": "execute_result"
    }
   ],
   "source": [
    "data"
   ]
  },
  {
   "cell_type": "code",
   "execution_count": 9,
   "id": "d7012b39",
   "metadata": {},
   "outputs": [
    {
     "data": {
      "text/plain": [
       "array([  4,   8,  16,  32,  64, 128])"
      ]
     },
     "execution_count": 9,
     "metadata": {},
     "output_type": "execute_result"
    }
   ],
   "source": [
    "lag=np.array(lag)\n",
    "lag[lag>1]"
   ]
  },
  {
   "cell_type": "code",
   "execution_count": 11,
   "id": "967b51d5",
   "metadata": {},
   "outputs": [],
   "source": [
    "from MFDFA import MFDFA\n",
    "\n",
    "y=data['Close']\n",
    "y=y[:500]\n",
    "# Select a band of lags, which usually ranges from\n",
    "# very small segments of data, to very long ones, as\n",
    "lag = np.array([4,8,16,32,64,128])\n",
    "# Notice these must be ints, since these will segment\n",
    "# the data into chucks of lag size\n",
    "\n",
    "# Select the power q\n",
    "q = 2\n",
    "\n",
    "# The order of the polynomial fitting\n",
    "order = 1\n",
    "\n",
    "# Obtain the (MF)DFA as\n",
    "lag, dfa = MFDFA(np.array(y), lag =lag , q = q, order = order)"
   ]
  },
  {
   "cell_type": "code",
   "execution_count": 12,
   "id": "6eb1e474",
   "metadata": {},
   "outputs": [
    {
     "data": {
      "text/plain": [
       "array([[  3.04479793],\n",
       "       [  6.31197772],\n",
       "       [ 17.49229919],\n",
       "       [ 42.43825108],\n",
       "       [ 64.01543016],\n",
       "       [354.79414809]])"
      ]
     },
     "execution_count": 12,
     "metadata": {},
     "output_type": "execute_result"
    }
   ],
   "source": [
    "dfa"
   ]
  },
  {
   "cell_type": "markdown",
   "id": "566f01f3",
   "metadata": {},
   "source": [
    "# Other methods"
   ]
  },
  {
   "cell_type": "code",
   "execution_count": 48,
   "id": "e7d8cae9",
   "metadata": {},
   "outputs": [
    {
     "name": "stdout",
     "output_type": "stream",
     "text": [
      "Hurst Exponent: 0.602\n",
      "Smoothed Hurst Exponent: 0.602\n"
     ]
    },
    {
     "data": {
      "image/png": "[encoded data removed]",
      "text/plain": [
       "<Figure size 640x480 with 1 Axes>"
      ]
     },
     "metadata": {},
     "output_type": "display_data"
    }
   ],
   "source": [
    "import numpy as np\n",
    "import pandas as pd\n",
    "import matplotlib.pyplot as plt\n",
    "# import yfinance as yf\n",
    "from scipy.stats import linregress\n",
    "\n",
    "# (a) - inputs\n",
    "def inputs(barsize=100, slen=18, Min=8, Max=2):\n",
    "    return barsize, slen, Min, Max\n",
    "\n",
    "# (b) - Declaration\n",
    "Min = 8\n",
    "Max = 2\n",
    "fluc = np.full(10, np.nan)\n",
    "scale = np.full(10, np.nan)\n",
    "slope = np.nan\n",
    "\n",
    "# (c) - SS function\n",
    "def ss(series, period):\n",
    "    PI = 2.0 * np.arcsin(1.0)\n",
    "    SQRT2 = np.sqrt(2.0)\n",
    "    _lambda = PI * SQRT2 / period\n",
    "    a1 = np.exp(-_lambda)\n",
    "    coeff2 = 2.0 * a1 * np.cos(_lambda)\n",
    "    coeff3 = - np.power(a1, 2.0)\n",
    "    coeff1 = 1.0 - coeff2 - coeff3\n",
    "    filt1 = np.zeros_like(series)\n",
    "    \n",
    "    for i in range(2, len(series)):\n",
    "        filt1[i] = coeff1 * (series[i] + (series[i - 1] if i - 1 >= 0 else 0)) * 0.5 + coeff2 * filt1[i - 1] + coeff3 * filt1[i - 2]\n",
    "\n",
    "    return filt1\n",
    "\n",
    "# (d) - Calculations\n",
    "def RMS(N1, N, csum):\n",
    "    seq = np.arange(1, N + 1)\n",
    "    y = csum[N1 : N1 + N]\n",
    "    sdx = np.std(seq) * np.sqrt(N / (N - 1))\n",
    "    sdy = np.std(y) * np.sqrt(N / (N - 1))\n",
    "    cov = np.cov(seq, y, bias=True)[0, 1] * (N / (N - 1))\n",
    "    r2 = np.power(cov / (sdx * sdy), 2)\n",
    "    rms = np.sqrt(1 - r2) * sdy\n",
    "    return rms\n",
    "\n",
    "def Arms(bar, csum, barsize):\n",
    "    num = np.floor(barsize / bar).astype(int)\n",
    "    sumr = sum(RMS(i * bar, bar, csum) for i in range(num))\n",
    "    avg = np.log10(sumr / num)\n",
    "    return avg\n",
    "\n",
    "def fs(x, barsize, Min, Max):\n",
    "    return np.round(Min * np.power(np.power(barsize / (Max * Min), 0.1111111111), x)).astype(int)\n",
    "\n",
    "def hurst_exponent(close, barsize=100, slen=18, Min=8, Max=2):\n",
    "    # Calculate Log Return\n",
    "    r = np.log(close / np.roll(close, 1))\n",
    "    # Mean of Log Return\n",
    "    mean = np.convolve(r, np.ones(barsize) / barsize, mode=\"valid\")\n",
    "    mean = np.pad(mean, (barsize - 1, 0), 'constant', constant_values=0)\n",
    "\n",
    "    # Calculate Cumulative Sum\n",
    "    csum = np.cumsum(r - mean)\n",
    "\n",
    "    # Set Ten Points of Root Mean Square Average along the Y log axis\n",
    "    fluc = np.array([Arms(fs(i, barsize, Min, Max), csum, barsize) for i in range(10)])\n",
    "\n",
    "    # Set Ten Points of data scale along the X log axis\n",
    "    scale = np.array([np.log10(fs(i, barsize, Min, Max)) for i in range(10)])\n",
    "\n",
    "        # Calculate Slope Measured From RMS and Scale on Log log plot using linear regression\n",
    "    slopes = np.array([np.cov(scale, fluc, bias=True)[0, 1] / np.var(scale, ddof=0) for i in range(len(close) - barsize + 1)])\n",
    "\n",
    "    # Calculate Moving Average Smoothed Hurst Exponent\n",
    "    smooth = ss(slopes, slen)\n",
    "\n",
    "    # Calculate Critical Value based on Confidence Interval (95% Confidence)\n",
    "    ci = 1.645 * (0.3912 / np.power(barsize, 0.3))\n",
    "    # Calculate Expected Value plus Critical Value\n",
    "    cu = 0.5 + ci\n",
    "    cd = 0.5 - ci\n",
    "\n",
    "    return slopes, smooth, cu, cd\n",
    "\n",
    "# (e) - Plots\n",
    "def plot_hurst_exponent(close, barsize=100, slen=18, Min=8, Max=2):\n",
    "    slopes, smooth, cu, cd = hurst_exponent(close, barsize, slen, Min, Max)\n",
    "\n",
    "    # Color of HE\n",
    "    c = \"green\" if slopes[-1] > cu else \"blue\" if slopes[-1] >= 0.5 else \"red\" if slopes[-1] < cd else \"orange\" if slopes[-1] < 0.5 else \"black\"\n",
    "\n",
    "    # Text of Table\n",
    "    text = \"Significant Trend\" if slopes[-1] > cu else \"Trend\" if slopes[-1] >= 0.5 else \"Significant Mean Reversion\" if slopes[-1] < cd else \"Mean Reversion\" if slopes[-1] < 0.5 else \"N/A\"\n",
    "\n",
    "    # Plotting\n",
    "    fig, ax = plt.subplots()\n",
    "\n",
    "    # Hurst Exponent\n",
    "    ax.plot(slope, label=\"Hurst Exponent\", color=c, linewidth=2)\n",
    "\n",
    "    # Confidence Interval\n",
    "    ax.axhline(cu, label=\"Confidence Interval\", color=\"purple\", linestyle=\"--\")\n",
    "    ax.axhline(cd, label=\"Confidence Interval\", color=\"purple\", linestyle=\"--\")\n",
    "\n",
    "    # Moving Average\n",
    "    ax.plot(smooth, label=\"MA\", color=\"gray\", linewidth=1)\n",
    "\n",
    "    # 0.5 Mid Level\n",
    "    ax.axhline(0.5, color=\"black\", linestyle=\"dashed\")\n",
    "\n",
    "    # Display legend and text\n",
    "    ax.legend()\n",
    "    plt.title(f\"Hurst Exponent: {slopes[-1]:.3f} ({text})\") \n",
    "    \n",
    "    print(f\"Hurst Exponent: {slopes[-1]:.3f}\")\n",
    "    print(f\"Smoothed Hurst Exponent: {smooth[-1]:.3f}\")\n",
    "    \n",
    "    plt.show()\n",
    "\n",
    "# Example usage\n",
    "# import yfinance as yf\n",
    "\n",
    "# Fetch historical stock data for Apple Inc. (AAPL)\n",
    "# ticker = \"AAPL\"\n",
    "# data = yf.download(ticker, start=\"2020-01-01\", end=\"2021-01-01\")\n",
    "\n",
    "# Use the 'Close' column for Hurst Exponent calculation\n",
    "close_prices = y.values\n",
    "\n",
    "plot_hurst_exponent(close_prices)"
   ]
  },
  {
   "cell_type": "code",
   "execution_count": null,
   "id": "d8c3f2c5",
   "metadata": {},
   "outputs": [],
   "source": []
  },
  {
   "cell_type": "code",
   "execution_count": null,
   "id": "8e58c2fc",
   "metadata": {},
   "outputs": [],
   "source": []
  },
  {
   "cell_type": "code",
   "execution_count": 5,
   "id": "a5781a7f",
   "metadata": {},
   "outputs": [],
   "source": [
    "import sys\n",
    "import math\n",
    "import warnings\n",
    "import numpy as np\n",
    "import pandas as pd"
   ]
  },
  {
   "cell_type": "code",
   "execution_count": 46,
   "id": "025fa2b6",
   "metadata": {},
   "outputs": [
    {
     "data": {
      "image/png": "[encoded data removed]",
      "text/plain": [
       "<Figure size 640x480 with 1 Axes>"
      ]
     },
     "metadata": {},
     "output_type": "display_data"
    }
   ],
   "source": [
    "sample_size = 500\n",
    "scalar = 100\n",
    "\n",
    "np.random.seed(123)\n",
    "df = pd.DataFrame(data={\"mean_rev\": np.log(np.random.randn(sample_size) + scalar),\n",
    "                        \"gbm\": np.log(np.cumsum(np.random.randn(sample_size)) + scalar),\n",
    "                        \"trending\": np.log(np.cumsum(np.random.randn(sample_size) + 1) + scalar)})\n",
    "\n",
    "df.plot(title=\"Generated time series\");"
   ]
  },
  {
   "cell_type": "code",
   "execution_count": 47,
   "id": "28224ee2",
   "metadata": {},
   "outputs": [
    {
     "name": "stdout",
     "output_type": "stream",
     "text": [
      "mean_rev: 0.5331\n",
      "gbm: 1.6295\n",
      "trending: 2.1135\n"
     ]
    }
   ],
   "source": [
    "for column in df.columns:\n",
    "        print(f\"{column}: {H_DFA(df[column].values, m_ls):.4f}\")"
   ]
  },
  {
   "cell_type": "code",
   "execution_count": 3,
   "id": "0d83ca21",
   "metadata": {},
   "outputs": [],
   "source": [
    "def get_hurst_exponent(time_series, max_lag=20):\n",
    "    \"\"\"Returns the Hurst Exponent of the time series\"\"\"\n",
    "    \n",
    "    lags = range(2, max_lag)\n",
    "\n",
    "    # variances of the lagged differences\n",
    "    tau = [np.std(np.subtract(time_series[lag:], time_series[:-lag])) for lag in lags]\n",
    "\n",
    "    # calculate the slope of the log plot -> the Hurst Exponent\n",
    "    reg = np.polyfit(np.log(lags), np.log(tau), 1)\n",
    "\n",
    "    return reg[0]"
   ]
  },
  {
   "cell_type": "code",
   "execution_count": 4,
   "id": "ee493a73",
   "metadata": {},
   "outputs": [
    {
     "name": "stdout",
     "output_type": "stream",
     "text": [
      "Hurst exponents with 20 lags ----\n",
      "mean_rev: 0.0064\n",
      "gbm: 0.4539\n",
      "trending: 0.8715\n",
      "Hurst exponents with 100 lags ----\n",
      "mean_rev: -0.0021\n",
      "gbm: 0.5401\n",
      "trending: 0.8442\n",
      "Hurst exponents with 300 lags ----\n",
      "mean_rev: 0.0002\n",
      "gbm: 0.5691\n",
      "trending: 0.7463\n",
      "Hurst exponents with 500 lags ----\n",
      "mean_rev: 0.0015\n",
      "gbm: 0.4854\n",
      "trending: 0.6662\n"
     ]
    }
   ],
   "source": [
    "for lag in [20, 100, 300, 500]:\n",
    "    print(f\"Hurst exponents with {lag} lags ----\")\n",
    "    for column in df.columns:\n",
    "        print(f\"{column}: {get_hurst_exponent(df[column].values, lag):.4f}\")"
   ]
  },
  {
   "cell_type": "markdown",
   "id": "46cf6855",
   "metadata": {},
   "source": [
    "# R/S analysis"
   ]
  },
  {
   "cell_type": "code",
   "execution_count": null,
   "id": "a083fa89",
   "metadata": {},
   "outputs": [],
   "source": [
    "def simplified_RS(series,window_sizes):\n",
    "    for w in window_sizes:\n",
    "        rs = []\n",
    "        for start in range(0, len(series), w):\n",
    "            if (start+w)>len(series):\n",
    "                break\n",
    "            _ = RS_func(series[start:start+w], kind)\n",
    "            if _ != 0:\n",
    "                rs.append(_)\n",
    "            RS.append(np.mean(rs))\n",
    "            \n",
    "    "
   ]
  },
  {
   "cell_type": "code",
   "execution_count": null,
   "id": "259d6c2b",
   "metadata": {},
   "outputs": [],
   "source": [
    "def Anis_Lloyd_RS:\n",
    "    "
   ]
  },
  {
   "cell_type": "code",
   "execution_count": 11,
   "id": "c8b9b36c",
   "metadata": {},
   "outputs": [],
   "source": [
    "def __to_inc(x):\n",
    "    incs = x[1:] - x[:-1]\n",
    "    return incs\n",
    "\n",
    "def __to_pct(x):\n",
    "    pcts = x[1:] / x[:-1] - 1.\n",
    "    return pcts\n",
    "\n",
    "def __get_simplified_RS(series, kind):\n",
    "    \"\"\"\n",
    "    Simplified version of rescaled range\n",
    "\n",
    "    Parameters\n",
    "    ----------\n",
    "\n",
    "    series : array-like\n",
    "        (Time-)series\n",
    "    kind : str\n",
    "        The kind of series (refer to compute_Hc docstring)\n",
    "    \"\"\"\n",
    "\n",
    "    if kind == 'random_walk':\n",
    "        incs = __to_inc(series)\n",
    "        R = max(series) - min(series)  # range in absolute values\n",
    "        S = np.std(incs, ddof=1)\n",
    "    elif kind == 'price':\n",
    "        pcts = __to_pct(series)\n",
    "        R = max(series) / min(series) - 1. # range in percent\n",
    "        S = np.std(pcts, ddof=1)\n",
    "    elif kind == 'change':\n",
    "        incs = series\n",
    "        _series = np.hstack([[0.],np.cumsum(incs)])\n",
    "        R = max(_series) - min(_series)  # range in absolute values\n",
    "        S = np.std(incs, ddof=1)\n",
    "\n",
    "    if R == 0 or S == 0:\n",
    "        return 0  # return 0 to skip this interval due the undefined R/S ratio\n",
    "\n",
    "    return R / S\n",
    "\n",
    "def __get_RS(series, kind):\n",
    "    \"\"\"\n",
    "    Get rescaled range (using the range of cumulative sum\n",
    "    of deviations instead of the range of a series as in the simplified version\n",
    "    of R/S) from a time-series of values.\n",
    "\n",
    "    Parameters\n",
    "    ----------\n",
    "\n",
    "    series : array-like\n",
    "        (Time-)series\n",
    "    kind : str\n",
    "        The kind of series (refer to compute_Hc docstring)\n",
    "    \"\"\"\n",
    "\n",
    "    if kind == 'random_walk':\n",
    "        incs = __to_inc(series)\n",
    "        mean_inc = (series[-1] - series[0]) / len(incs)\n",
    "        deviations = incs - mean_inc\n",
    "        Z = np.cumsum(deviations)\n",
    "        R = max(Z) - min(Z)\n",
    "        S = np.std(incs, ddof=1)\n",
    "\n",
    "    elif kind == 'price':\n",
    "        incs = __to_pct(series)\n",
    "        mean_inc = np.sum(incs) / len(incs)\n",
    "        deviations = incs - mean_inc\n",
    "        Z = np.cumsum(deviations)\n",
    "        R = max(Z) - min(Z)\n",
    "        S = np.std(incs, ddof=1)\n",
    "\n",
    "    elif kind == 'change':\n",
    "        incs = series\n",
    "        mean_inc = np.sum(incs) / len(incs)\n",
    "        deviations = incs - mean_inc\n",
    "        Z = np.cumsum(deviations)\n",
    "        R = max(Z) - min(Z)\n",
    "        S = np.std(incs, ddof=1)\n",
    "\n",
    "    if R == 0 or S == 0:\n",
    "        return 0  # return 0 to skip this interval due undefined R/S\n",
    "\n",
    "    return R / S\n",
    "\n",
    "def compute_Hc(series, kind=\"random_walk\", min_window=10, max_window=None, simplified=True):\n",
    "    \"\"\"\n",
    "    Compute H (Hurst exponent) and C according to Hurst equation:\n",
    "    E(R/S) = c * T^H\n",
    "\n",
    "    Refer to:\n",
    "    https://en.wikipedia.org/wiki/Hurst_exponent\n",
    "    https://en.wikipedia.org/wiki/Rescaled_range\n",
    "    https://en.wikipedia.org/wiki/Random_walk\n",
    "\n",
    "    Parameters\n",
    "    ----------\n",
    "\n",
    "    series : array-like\n",
    "        (Time-)series\n",
    "\n",
    "    kind : str\n",
    "        Kind of series\n",
    "        possible values are 'random_walk', 'change' and 'price':\n",
    "        - 'random_walk' means that a series is a random walk with random increments;\n",
    "        - 'price' means that a series is a random walk with random multipliers;\n",
    "        - 'change' means that a series consists of random increments\n",
    "            (thus produced random walk is a cumulative sum of increments);\n",
    "\n",
    "    min_window : int, default 10\n",
    "        the minimal window size for R/S calculation\n",
    "\n",
    "    max_window : int, default is the length of series minus 1\n",
    "        the maximal window size for R/S calculation\n",
    "\n",
    "    simplified : bool, default True\n",
    "        whether to use the simplified or the original version of R/S calculation\n",
    "\n",
    "    Returns tuple of\n",
    "        H, c and data\n",
    "        where H and c — parameters or Hurst equation\n",
    "        and data is a list of 2 lists: time intervals and R/S-values for correspoding time interval\n",
    "        for further plotting log(data[0]) on X and log(data[1]) on Y\n",
    "    \"\"\"\n",
    "\n",
    "    if len(series)<100:\n",
    "        raise ValueError(\"Series length must be greater or equal to 100\")\n",
    "\n",
    "    ndarray_likes = [np.ndarray]\n",
    "    if \"pandas.core.series\" in sys.modules.keys():\n",
    "        ndarray_likes.append(pd.core.series.Series)\n",
    "\n",
    "    # convert series to numpy array if series is not numpy array or pandas Series\n",
    "    if type(series) not in ndarray_likes:\n",
    "        series = np.array(series)\n",
    "\n",
    "    if \"pandas.core.series\" in sys.modules.keys() and type(series) == pd.core.series.Series:\n",
    "        if series.isnull().values.any():\n",
    "            raise ValueError(\"Series contains NaNs\")\n",
    "        series = series.values  # convert pandas Series to numpy array\n",
    "    elif np.isnan(np.min(series)):\n",
    "        raise ValueError(\"Series contains NaNs\")\n",
    "\n",
    "    if simplified:\n",
    "        RS_func = __get_simplified_RS\n",
    "    else:\n",
    "        RS_func = __get_RS\n",
    "\n",
    "\n",
    "    err = np.geterr()\n",
    "    np.seterr(all='raise')\n",
    "\n",
    "    max_window = max_window or len(series)-1\n",
    "    window_sizes = list(map(\n",
    "        lambda x: int(10**x),\n",
    "        np.arange(math.log10(min_window), math.log10(max_window), 0.25)))\n",
    "    window_sizes.append(len(series))\n",
    "\n",
    "    RS = []\n",
    "    for w in window_sizes:\n",
    "        rs = []\n",
    "        for start in range(0, len(series), w):\n",
    "            if (start+w)>len(series):\n",
    "                break\n",
    "            _ = RS_func(series[start:start+w], kind)\n",
    "            if _ != 0:\n",
    "                rs.append(_)\n",
    "        RS.append(np.mean(rs))\n",
    "\n",
    "    A = np.vstack([np.log10(window_sizes), np.ones(len(RS))]).T\n",
    "    H, c = np.linalg.lstsq(A, np.log10(RS), rcond=-1)[0]\n",
    "    np.seterr(**err)\n",
    "\n",
    "    c = 10**c\n",
    "    return H, c, [window_sizes, RS]\n"
   ]
  },
  {
   "cell_type": "code",
   "execution_count": 12,
   "id": "8feeb5a2",
   "metadata": {},
   "outputs": [
    {
     "data": {
      "text/html": [
       "<div>\n",
       "<style scoped>\n",
       "    .dataframe tbody tr th:only-of-type {\n",
       "        vertical-align: middle;\n",
       "    }\n",
       "\n",
       "    .dataframe tbody tr th {\n",
       "        vertical-align: top;\n",
       "    }\n",
       "\n",
       "    .dataframe thead th {\n",
       "        text-align: right;\n",
       "    }\n",
       "</style>\n",
       "<table border=\"1\" class=\"dataframe\">\n",
       "  <thead>\n",
       "    <tr style=\"text-align: right;\">\n",
       "      <th></th>\n",
       "      <th>mean_rev</th>\n",
       "      <th>gbm</th>\n",
       "      <th>trending</th>\n",
       "    </tr>\n",
       "  </thead>\n",
       "  <tbody>\n",
       "    <tr>\n",
       "      <th>0</th>\n",
       "      <td>4.594255</td>\n",
       "      <td>4.597654</td>\n",
       "      <td>4.597398</td>\n",
       "    </tr>\n",
       "    <tr>\n",
       "      <th>1</th>\n",
       "      <td>4.615094</td>\n",
       "      <td>4.603356</td>\n",
       "      <td>4.595366</td>\n",
       "    </tr>\n",
       "    <tr>\n",
       "      <th>2</th>\n",
       "      <td>4.607996</td>\n",
       "      <td>4.610525</td>\n",
       "      <td>4.616314</td>\n",
       "    </tr>\n",
       "    <tr>\n",
       "      <th>3</th>\n",
       "      <td>4.589993</td>\n",
       "      <td>4.600535</td>\n",
       "      <td>4.634551</td>\n",
       "    </tr>\n",
       "    <tr>\n",
       "      <th>4</th>\n",
       "      <td>4.599367</td>\n",
       "      <td>4.605295</td>\n",
       "      <td>4.629485</td>\n",
       "    </tr>\n",
       "    <tr>\n",
       "      <th>...</th>\n",
       "      <td>...</td>\n",
       "      <td>...</td>\n",
       "      <td>...</td>\n",
       "    </tr>\n",
       "    <tr>\n",
       "      <th>995</th>\n",
       "      <td>4.611498</td>\n",
       "      <td>4.713706</td>\n",
       "      <td>7.008394</td>\n",
       "    </tr>\n",
       "    <tr>\n",
       "      <th>996</th>\n",
       "      <td>4.615813</td>\n",
       "      <td>4.703608</td>\n",
       "      <td>7.008442</td>\n",
       "    </tr>\n",
       "    <tr>\n",
       "      <th>997</th>\n",
       "      <td>4.596035</td>\n",
       "      <td>4.700347</td>\n",
       "      <td>7.011188</td>\n",
       "    </tr>\n",
       "    <tr>\n",
       "      <th>998</th>\n",
       "      <td>4.609862</td>\n",
       "      <td>4.685603</td>\n",
       "      <td>7.013004</td>\n",
       "    </tr>\n",
       "    <tr>\n",
       "      <th>999</th>\n",
       "      <td>4.593994</td>\n",
       "      <td>4.685728</td>\n",
       "      <td>7.012433</td>\n",
       "    </tr>\n",
       "  </tbody>\n",
       "</table>\n",
       "<p>1000 rows × 3 columns</p>\n",
       "</div>"
      ],
      "text/plain": [
       "     mean_rev       gbm  trending\n",
       "0    4.594255  4.597654  4.597398\n",
       "1    4.615094  4.603356  4.595366\n",
       "2    4.607996  4.610525  4.616314\n",
       "3    4.589993  4.600535  4.634551\n",
       "4    4.599367  4.605295  4.629485\n",
       "..        ...       ...       ...\n",
       "995  4.611498  4.713706  7.008394\n",
       "996  4.615813  4.703608  7.008442\n",
       "997  4.596035  4.700347  7.011188\n",
       "998  4.609862  4.685603  7.013004\n",
       "999  4.593994  4.685728  7.012433\n",
       "\n",
       "[1000 rows x 3 columns]"
      ]
     },
     "execution_count": 12,
     "metadata": {},
     "output_type": "execute_result"
    }
   ],
   "source": [
    "df"
   ]
  },
  {
   "cell_type": "code",
   "execution_count": 13,
   "id": "0c5152d5",
   "metadata": {},
   "outputs": [
    {
     "name": "stdout",
     "output_type": "stream",
     "text": [
      "H=0.1630, c=1.6625\n"
     ]
    }
   ],
   "source": [
    "\n",
    "# Evaluate Hurst equation\n",
    "H, c, data = compute_Hc(df['mean_rev'].values, kind='price', simplified=True)\n",
    "\n",
    "# Plot\n",
    "# uncomment the following to make a plot using Matplotlib:\n",
    "\"\"\"\n",
    "import matplotlib.pyplot as plt\n",
    "\n",
    "f, ax = plt.subplots()\n",
    "ax.plot(data[0], c*data[0]**H, color=\"deepskyblue\")\n",
    "ax.scatter(data[0], data[1], color=\"purple\")\n",
    "ax.set_xscale('log')\n",
    "ax.set_yscale('log')\n",
    "ax.set_xlabel('Time interval')\n",
    "ax.set_ylabel('R/S ratio')\n",
    "ax.grid(True)\n",
    "plt.show()\n",
    "\"\"\"\n",
    "\n",
    "print(\"H={:.4f}\".format(H))"
   ]
  },
  {
   "cell_type": "code",
   "execution_count": 14,
   "id": "07c3c798",
   "metadata": {},
   "outputs": [
    {
     "data": {
      "text/plain": [
       "[[10, 17, 31, 56, 100, 177, 316, 562, 1000],\n",
       " [2.24109315848898,\n",
       "  2.635222006008945,\n",
       "  3.003497443095438,\n",
       "  3.2954212114069996,\n",
       "  3.6567776647539447,\n",
       "  4.035197812311179,\n",
       "  4.346645340888816,\n",
       "  4.485435810979689,\n",
       "  4.889799928880843]]"
      ]
     },
     "execution_count": 14,
     "metadata": {},
     "output_type": "execute_result"
    }
   ],
   "source": [
    "data"
   ]
  },
  {
   "cell_type": "code",
   "execution_count": null,
   "id": "53c8514a",
   "metadata": {},
   "outputs": [],
   "source": []
  }
 ],
 "metadata": {
  "kernelspec": {
   "display_name": "Python 3 (ipykernel)",
   "language": "python",
   "name": "python3"
  },
  "language_info": {
   "codemirror_mode": {
    "name": "ipython",
    "version": 3
   },
   "file_extension": ".py",
   "mimetype": "text/x-python",
   "name": "python",
   "nbconvert_exporter": "python",
   "pygments_lexer": "ipython3",
   "version": "3.10.9"
  }
 },
 "nbformat": 4,
 "nbformat_minor": 5
}
